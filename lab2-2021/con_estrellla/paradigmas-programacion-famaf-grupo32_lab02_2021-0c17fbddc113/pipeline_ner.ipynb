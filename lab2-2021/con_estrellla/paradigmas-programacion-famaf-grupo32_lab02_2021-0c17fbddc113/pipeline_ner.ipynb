{
 "cells": [
  {
   "cell_type": "markdown",
   "id": "pleased-container",
   "metadata": {
    "id": "pleased-container"
   },
   "source": [
    "# Named Entity Recognition Pipeline\n",
    "\n",
    "El pipeline toma una URL de un feed en formato RSS, obtiene el título y descripción de los artículos en el feed, detecta las NER con un modelo pre-entrenado, y las muestra ordenadas por frecuencia de aparición.\n",
    "\n",
    "### Versiones\n",
    "Probado con:\n",
    "* Almond 0.6.0\n",
    "* Ammonite 1.6.7\n",
    "* Scala library version **2.11.12** -- Copyright 2002-2017, LAMP/EPFL\n",
    "* Java 1.8.0_282\n",
    "\n",
    "Para ver más información ir a (Help -> About Scala Kernel)"
   ]
  },
  {
   "cell_type": "markdown",
   "id": "compliant-nursing",
   "metadata": {
    "id": "compliant-nursing",
    "tags": []
   },
   "source": [
    "## 1. Obtener texto"
   ]
  },
  {
   "cell_type": "markdown",
   "id": "important-swaziland",
   "metadata": {
    "id": "important-swaziland"
   },
   "source": [
    "### 1.1 Importar librerías"
   ]
  },
  {
   "cell_type": "code",
   "execution_count": 1,
   "id": "automated-russian",
   "metadata": {
    "id": "automated-russian",
    "outputId": "cb256280-ea81-46b1-a118-226071ddd3ea",
    "tags": []
   },
   "outputs": [
    {
     "data": {
      "text/plain": [
       "\u001b[32mimport \u001b[39m\u001b[36m$ivy.$                              \n",
       "// \"org.scala-lang.modules\" %% \"scala-xml\" % \"1.3.0\"\n",
       "\u001b[39m\n",
       "\u001b[32mimport \u001b[39m\u001b[36m$ivy.$                                        \u001b[39m"
      ]
     },
     "execution_count": 1,
     "metadata": {},
     "output_type": "execute_result"
    }
   ],
   "source": [
    "// Equivalent of adding dependencies to maven or sbt files\n",
    "// For example, to add \"org.scalaj\" %% \"scalaj-http\" % \"2.4.2\" \n",
    "import $ivy.`org.scalaj::scalaj-http:2.4.2`\n",
    "// \"org.scala-lang.modules\" %% \"scala-xml\" % \"1.3.0\"\n",
    "import $ivy.`org.scala-lang.modules::scala-xml:1.3.0`"
   ]
  },
  {
   "cell_type": "code",
   "execution_count": 2,
   "id": "composed-porter",
   "metadata": {
    "id": "composed-porter",
    "outputId": "2137b61f-6085-453f-f545-a5628927bbc6"
   },
   "outputs": [
    {
     "data": {
      "text/plain": [
       "\u001b[32mimport \u001b[39m\u001b[36mscalaj.http.{Http, HttpResponse}\n",
       "\u001b[39m\n",
       "\u001b[32mimport \u001b[39m\u001b[36mscala.xml.XML\u001b[39m"
      ]
     },
     "execution_count": 2,
     "metadata": {},
     "output_type": "execute_result"
    }
   ],
   "source": [
    "import scalaj.http.{Http, HttpResponse}\n",
    "import scala.xml.XML"
   ]
  },
  {
   "cell_type": "code",
   "execution_count": 3,
   "id": "a7b44bcf-a381-45c7-ac9e-db59d1f71a1a",
   "metadata": {
    "id": "a7b44bcf-a381-45c7-ac9e-db59d1f71a1a",
    "outputId": "d1077f7b-fa61-4d82-94ad-f4545dcb20d0"
   },
   "outputs": [
    {
     "data": {
      "text/plain": [
       "\u001b[32mimport \u001b[39m\u001b[36m$ivy.$                                 \u001b[39m"
      ]
     },
     "execution_count": 3,
     "metadata": {},
     "output_type": "execute_result"
    }
   ],
   "source": [
    "//IMPORRTAR LIBRERIAS PARA JSON\n",
    "import $ivy.`org.json4s::json4s-jackson:3.4.0`"
   ]
  },
  {
   "cell_type": "code",
   "execution_count": 4,
   "id": "f682a70e-fba0-498e-9a1f-68194f2a4058",
   "metadata": {
    "id": "f682a70e-fba0-498e-9a1f-68194f2a4058",
    "outputId": "3d45c1e0-c585-445e-9567-9b6e28b37029"
   },
   "outputs": [
    {
     "data": {
      "text/plain": [
       "\u001b[32mimport \u001b[39m\u001b[36morg.json4s.JsonDSL._\n",
       "\u001b[39m\n",
       "\u001b[32mimport \u001b[39m\u001b[36morg.json4s._\n",
       "\u001b[39m\n",
       "\u001b[32mimport \u001b[39m\u001b[36morg.json4s.jackson.JsonMethods._\u001b[39m"
      ]
     },
     "execution_count": 4,
     "metadata": {},
     "output_type": "execute_result"
    }
   ],
   "source": [
    "import org.json4s.JsonDSL._\n",
    "import org.json4s._\n",
    "import org.json4s.jackson.JsonMethods._"
   ]
  },
  {
   "cell_type": "code",
   "execution_count": 5,
   "id": "92b349fc-52f8-4ae4-a4e5-4ece09ad401c",
   "metadata": {
    "id": "92b349fc-52f8-4ae4-a4e5-4ece09ad401c",
    "outputId": "af6fdda8-ed53-47f5-fb69-f47304d7cac3"
   },
   "outputs": [
    {
     "data": {
      "text/plain": [
       "\u001b[36mformats\u001b[39m: \u001b[32mDefaultFormats\u001b[39m.type = org.json4s.DefaultFormats$@6dc9f590"
      ]
     },
     "execution_count": 5,
     "metadata": {},
     "output_type": "execute_result"
    }
   ],
   "source": [
    "implicit val formats = DefaultFormats"
   ]
  },
  {
   "cell_type": "code",
   "execution_count": 6,
   "id": "66e403bc-372a-4068-a30f-b22b58243bdc",
   "metadata": {},
   "outputs": [
    {
     "data": {
      "text/plain": [
       "\u001b[32mimport \u001b[39m\u001b[36mscala.util.matching.Regex\u001b[39m"
      ]
     },
     "execution_count": 6,
     "metadata": {},
     "output_type": "execute_result"
    }
   ],
   "source": [
    "import scala.util.matching.Regex"
   ]
  },
  {
   "cell_type": "markdown",
   "id": "interstate-painting",
   "metadata": {
    "id": "interstate-painting"
   },
   "source": [
    "### 1.1 Obtener el texto del RSS Feed\n",
    "\n",
    "Realizamos una consulta HTTP, que nos devuelve una instancia de HTTPResponse. Dentro del atributo `body` de la HTTPResponse, se encuentra el texto del feed en formato XML. Luego, se parsea el XML para extraer los campos `title` y `description`."
   ]
  },
  {
   "cell_type": "code",
   "execution_count": 6,
   "id": "ongoing-hindu",
   "metadata": {
    "id": "ongoing-hindu",
    "outputId": "6b652aff-1e4b-405d-b8f7-95741e1b9730",
    "tags": []
   },
   "outputs": [
    {
     "data": {
      "text/plain": [
       "\u001b[36murlRss\u001b[39m: \u001b[32mString\u001b[39m = \u001b[32m\"https://www.chicagotribune.com/arcio/rss/category/sports/?query=display_date:[now-2d+TO+now]&sort=display_date:desc\"\u001b[39m"
      ]
     },
     "execution_count": 6,
     "metadata": {},
     "output_type": "execute_result"
    }
   ],
   "source": [
    "// Tutorial https://alvinalexander.com/source-code/scala-how-to-http-download-xml-rss-feed-timeout/\n",
    "// get the xml content using scalaj-http\n",
    "val urlRss = \"https://www.chicagotribune.com/arcio/rss/category/sports/?query=display_date:[now-2d+TO+now]&sort=display_date:desc\""
   ]
  },
  {
   "cell_type": "code",
   "execution_count": 7,
   "id": "cffc2e77-9123-4522-b30c-937cef6e9e4e",
   "metadata": {
    "id": "cffc2e77-9123-4522-b30c-937cef6e9e4e",
    "outputId": "26e414f8-9df1-4518-cf1f-ebd2b52ece74"
   },
   "outputs": [
    {
     "data": {
      "text/plain": [
       "\u001b[36murlJson\u001b[39m: \u001b[32mString\u001b[39m = \u001b[32m\"https://www.reddit.com/r/Android/hot/.json?count=10\"\u001b[39m"
      ]
     },
     "execution_count": 7,
     "metadata": {},
     "output_type": "execute_result"
    }
   ],
   "source": [
    "//url post de reddit\n",
    "val urlJson = \"https://www.reddit.com/r/Android/hot/.json?count=10\""
   ]
  },
  {
   "cell_type": "code",
   "execution_count": 84,
   "id": "afbffb4b-9d02-4478-a853-f21381a0403f",
   "metadata": {},
   "outputs": [
    {
     "data": {
      "text/plain": [
       "\u001b[36murlStack\u001b[39m: \u001b[32mString\u001b[39m = \u001b[32m\"https://api.stackexchange.com/2.2/questions?order=desc&sort=activity&site=stackoverflow\"\u001b[39m"
      ]
     },
     "execution_count": 84,
     "metadata": {},
     "output_type": "execute_result"
    }
   ],
   "source": [
    "//url preguntas de Stack Exchange\n",
    "val urlStack = \"https://api.stackexchange.com/2.2/questions?order=desc&sort=activity&site=stackoverflow\""
   ]
  },
  {
   "cell_type": "code",
   "execution_count": 8,
   "id": "3d8837eb-3153-4449-a8c4-c0919423ddad",
   "metadata": {},
   "outputs": [
    {
     "data": {
      "text/plain": [
       "\u001b[36murlTrucho\u001b[39m: \u001b[32mString\u001b[39m = \u001b[32m\"Hola\"\u001b[39m"
      ]
     },
     "execution_count": 8,
     "metadata": {},
     "output_type": "execute_result"
    }
   ],
   "source": [
    "//Para probar que andan las excepciones\n",
    "val urlTrucho = \"Hola\""
   ]
  },
  {
   "cell_type": "code",
   "execution_count": 9,
   "id": "9b396f41-8e90-4ef6-afaa-2ff7beefe89d",
   "metadata": {},
   "outputs": [
    {
     "data": {
      "text/plain": [
       "defined \u001b[32mtrait\u001b[39m \u001b[36mDataSource\u001b[39m"
      ]
     },
     "execution_count": 9,
     "metadata": {},
     "output_type": "execute_result"
    }
   ],
   "source": [
    "trait DataSource {\n",
    "    def getResponse(url: String): String = {\n",
    "        try{\n",
    "            val response = Http(url)\n",
    "            .timeout(connTimeoutMs = 2000, readTimeoutMs = 5000)\n",
    "            .asString\n",
    "            \n",
    "            response.body\n",
    "        } \n",
    "        catch{\n",
    "            case ex: java.net.MalformedURLException => \"\"\n",
    "            case ex: java.net.ConnectException => \"\"\n",
    "            case ex: java.net.UnknownHostException => \"\"\n",
    "        }\n",
    "    }\n",
    "    \n",
    "    def parseResponse(url: String): Seq[String]\n",
    "}"
   ]
  },
  {
   "cell_type": "code",
   "execution_count": 10,
   "id": "2d319f82-7af2-413a-b74a-a9e5b6fdee7c",
   "metadata": {},
   "outputs": [
    {
     "data": {
      "text/plain": [
       "defined \u001b[32mclass\u001b[39m \u001b[36mRssSource\u001b[39m"
      ]
     },
     "execution_count": 10,
     "metadata": {},
     "output_type": "execute_result"
    }
   ],
   "source": [
    "class RssSource(fields: Seq[String] = Seq(\"title\", \"description\")) extends DataSource {\n",
    "    def parseResponse(url: String): Seq[String] = {\n",
    "        val xml = XML.loadString(getResponse(url))\n",
    "        \n",
    "        (xml\\\\ \"item\").map { item =>\n",
    "            fields.map { field =>\n",
    "                (item \\ s\"$field\").text + \" \"\n",
    "            }.foldLeft(\"\")(_+_)\n",
    "        }\n",
    "    }\n",
    "}"
   ]
  },
  {
   "cell_type": "code",
   "execution_count": 11,
   "id": "26201e56-a6a8-4304-be1d-8d42718f303f",
   "metadata": {},
   "outputs": [
    {
     "data": {
      "text/plain": [
       "defined \u001b[32mclass\u001b[39m \u001b[36mJsonSource\u001b[39m"
      ]
     },
     "execution_count": 11,
     "metadata": {},
     "output_type": "execute_result"
    }
   ],
   "source": [
    "class JsonSource(fields: Seq[String] = Seq(\"title\", \"selftext\")) extends DataSource {        \n",
    "    //Expresion regular urls\n",
    "    val urlRegex = \"(https?|ftp|file)://[-a-zA-Z0-9+&@#/%?=~_|!:,.;]*[-a-zA-Z0-9+&@#/%=~_|]\".r\n",
    "\n",
    "    def removeUrls(secuencia: Seq[String]): Seq[String] = {\n",
    "            secuencia.map(urlRegex replaceAllIn(_, \" \"))\n",
    "    }\n",
    "\n",
    "    def parseResponse(url: String): Seq[String] = {\n",
    "        val res = (parse(getResponse(url))\\\"data\"\\\"children\"\\\"data\").extract[List[Map[String, Any]]]\n",
    "        \n",
    "        removeUrls(res.map { Map =>\n",
    "            fields.map { field =>\n",
    "                Map(field) + \" \"\n",
    "            }.foldLeft(\"\")(_+_)\n",
    "        })\n",
    "    }\n",
    "}"
   ]
  },
  {
   "cell_type": "code",
   "execution_count": 89,
   "id": "341924e7-9fc3-443e-9532-1ea820b5ad0e",
   "metadata": {},
   "outputs": [
    {
     "data": {
      "text/plain": [
       "defined \u001b[32mclass\u001b[39m \u001b[36mStackQSource\u001b[39m"
      ]
     },
     "execution_count": 89,
     "metadata": {},
     "output_type": "execute_result"
    }
   ],
   "source": [
    "class StackQSource(fields: Seq[String] = Seq(\"title\")) extends DataSource {        \n",
    "    def parseResponse(url: String): Seq[String] = {\n",
    "        val res = (parse(getResponse(url))\\\"items\").extract[List[Map[String, Any]]]\n",
    "        \n",
    "        res.map { mp =>\n",
    "            fields.map { field =>\n",
    "                mp(field) + \" \"\n",
    "            }.foldLeft(\"\")(_+_)\n",
    "        }\n",
    "    }\n",
    "}"
   ]
  },
  {
   "cell_type": "code",
   "execution_count": 12,
   "id": "c9a467f0-631b-4eee-a38e-fd639342e109",
   "metadata": {},
   "outputs": [
    {
     "data": {
      "text/plain": [
       "\u001b[36mrssSource\u001b[39m: \u001b[32mRssSource\u001b[39m = ammonite.$sess.cmd9$Helper$RssSource@433c6b07"
      ]
     },
     "execution_count": 12,
     "metadata": {},
     "output_type": "execute_result"
    }
   ],
   "source": [
    "val rssSource = new RssSource()"
   ]
  },
  {
   "cell_type": "code",
   "execution_count": 13,
   "id": "affd2f6c-fd8b-47ec-af99-4a7287bb8f3d",
   "metadata": {},
   "outputs": [
    {
     "data": {
      "text/plain": [
       "\u001b[36mjsonSource\u001b[39m: \u001b[32mJsonSource\u001b[39m = ammonite.$sess.cmd10$Helper$JsonSource@280386d5"
      ]
     },
     "execution_count": 13,
     "metadata": {},
     "output_type": "execute_result"
    }
   ],
   "source": [
    "val jsonSource = new JsonSource(Seq(\"title\", \"selftext\"))"
   ]
  },
  {
   "cell_type": "code",
   "execution_count": 90,
   "id": "8292595d-6357-43d4-99ca-140d8c4e0635",
   "metadata": {},
   "outputs": [
    {
     "data": {
      "text/plain": [
       "\u001b[36mstackQSource\u001b[39m: \u001b[32mStackQSource\u001b[39m = ammonite.$sess.cmd88$Helper$StackQSource@6a1485d8"
      ]
     },
     "execution_count": 90,
     "metadata": {},
     "output_type": "execute_result"
    }
   ],
   "source": [
    "val stackQSource = new StackQSource()"
   ]
  },
  {
   "cell_type": "code",
   "execution_count": 128,
   "id": "b26a776a-2e29-49d8-924a-9827195f8d37",
   "metadata": {},
   "outputs": [
    {
     "data": {
      "text/plain": [
       "\u001b[36mlistStack\u001b[39m: \u001b[32mSeq\u001b[39m[\u001b[32mString\u001b[39m] = \u001b[33mList\u001b[39m(\n",
       "  \u001b[32m\"Efficient python loop structure to repeat something once \"\u001b[39m,\n",
       "  \u001b[32m\"On html, How to make a type box where the user can submit an answer and I can see all the answers in a text file or something? \"\u001b[39m,\n",
       "  \u001b[32m\"What is the pythonic/idiomatic way of filtering the output of a generator expression? \"\u001b[39m,\n",
       "  \u001b[32m\"Need directions for basics of HPC on MZ Azure \"\u001b[39m,\n",
       "  \u001b[32m\"A google sheet api http request with &quot;Service account key&quot; auth and without google/apiclient \"\u001b[39m,\n",
       "  \u001b[32m\"Using a callback only when a filter returns boolean value true \"\u001b[39m,\n",
       "  \u001b[32m\"SSH2 issues wiht Node.js \"\u001b[39m,\n",
       "  \u001b[32m\"PyKinectv2 Body tracking count \"\u001b[39m,\n",
       "  \u001b[32m\"How do I sum matching strings in a range of ints &amp; display as a stacked bar plot? \"\u001b[39m,\n",
       "  \u001b[32m\"Add time delay in each rows \"\u001b[39m,\n",
       "  \u001b[32m\"Can&#39;t Output Seaborn Scatterplot to Tkinter Frame \"\u001b[39m,\n",
       "  \u001b[32m\"Is it possible to add a &quot;.&quot; inside a Math.random \"\u001b[39m,\n",
       "  \u001b[32m\"Adding voices in the voice list in Festival Software \"\u001b[39m,\n",
       "  \u001b[32m\"How to package a python project that has dependency on tflite_runtime? \"\u001b[39m,\n",
       "  \u001b[32m\"Storing data and emailing it - Unity WebGL \"\u001b[39m,\n",
       "  \u001b[32m\"I want to input to CSV with Python 3, but I&#39;d like to do it from now on \"\u001b[39m,\n",
       "  \u001b[32m\"NetBeans 12.3 : JavaFX FXMLLoader Problem \"\u001b[39m,\n",
       "  \u001b[32m\"Replace HTML Unicode with Swift Unicode \"\u001b[39m,\n",
       "  \u001b[32m\"Format JSON with new keys from value after sort in javascript \"\u001b[39m,\n",
       "  \u001b[32m\"Due to TIME_WAIT, when the server wants to close a connection, isn&#39;t it better to tell the client to close it on their end? \"\u001b[39m,\n",
       "  \u001b[32m\"Determine how long a promise took \"\u001b[39m,\n",
       "  \u001b[32m\"Order data using firebase and python(pyrebase) \"\u001b[39m,\n",
       "  \u001b[32m\"How can I convert data from Type A to Type B in Excel? \"\u001b[39m,\n",
       "  \u001b[32m\"applicationWillEnterForeground is getting hit when user navigate from other app \"\u001b[39m,\n",
       "  \u001b[32m\"Route params not getting passed to screen without refresh in react navigation \"\u001b[39m,\n",
       "  \u001b[32m\"make keeps running a rule \"\u001b[39m,\n",
       "  \u001b[32m\"Scrapy Request give 403 but 200 in python requests \"\u001b[39m,\n",
       "  \u001b[32m\"Flask sqlalchemy filter objects in relationship for each object \"\u001b[39m,\n",
       "  \u001b[32m\"Socket TCP in linux - Client cannot insert username \"\u001b[39m,\n",
       "  \u001b[32m\"Change default scope for &quot;find usages&quot; in PyCharm \"\u001b[39m\n",
       ")"
      ]
     },
     "execution_count": 128,
     "metadata": {},
     "output_type": "execute_result"
    }
   ],
   "source": [
    "val listStack = stackQSource.parseResponse(urlStack)"
   ]
  },
  {
   "cell_type": "code",
   "execution_count": 14,
   "id": "5c01a1ff-3405-4502-b947-b348e0c2b5a1",
   "metadata": {
    "tags": []
   },
   "outputs": [
    {
     "data": {
      "text/plain": [
       "\u001b[36mlistRss\u001b[39m: \u001b[32mSeq\u001b[39m[\u001b[32mString\u001b[39m] = \u001b[33mList\u001b[39m(\n",
       "  \u001b[32m\"4 things we heard from Chicago Bears offensive assistants, including competition for Anthony Miller and high expectations for Germain Ifedi Chicago Bears offensive coaches talked last week about some key topics involving veteran players, including wide receivers Anthony Miller and Allen Robinson, tight end Jimmy Graham and right tackle Germain Ifedi. \"\u001b[39m,\n",
       "  \u001b[32m\"When it comes to Justin Fields\\u2019 development, \\u2018time is the biggest question\\u2019 for the Chicago Bears. A look back at past rookie QBs lends insight into the process. Conventional thinking is the Chicago Bears will want to begin the season with Andy Dalton at QB, as the last thing they want to do is risk damaging Justin Fields\\u2019 development by throwing him in before he\\u2019s ready. But he\\u2019s also the shiny new toy in the building, so Matt Nagy and his staff will be tempted to play the rookie. \"\u001b[39m,\n",
       "  \u001b[32m\"Chicago Cubs welcome Jon Lester and Kyle Schwarber back to Wrigley Field \\u2014 and then beat them 7-3: \\u2018Definitely a special moment\\u2019 The Chicago Cubs hit three home runs and scored five runs off former teammate Jon Lester in 5\\u2153 innings en route to a 7-3 victory over the Washington Nationals. Another ex-Cub, Kyle Schwarber, hit a two-run homer for the Nationals. \"\u001b[39m,\n",
       "  \u001b[32m\"Nick Madrigal\\u2019s 1st career HR helps ignite the Chicago White Sox\\u2019s 16-4 rout of the Minnesota Twins: \\u2018I was sprinting the bases like it was a triple\\u2019 Nick Madrigal hit the first home run of his major-league career as the Chicago White Sox pummeled the Minnesota Twins 16-4 on Monday at Target Field. The Sox had 18 hits, including a grand slam by Danny Mendick. \"\u001b[39m,\n",
       "  \u001b[32m\"Photos: Chicago Cubs top Washington Nationals 7-3 in mini-reunion with Jon Lester and Kyle Schwarber Photos from the Chicago Cubs' 7-3 win against the Washington Nationals on May 17, 2021, at Wrigley Field. Former Cubs pitcher Jon Lester took the loss for the Nationals. \"\u001b[39m,\n",
       "  \u001b[32m\"Art\\u016bras Karni\\u0161ovas and the Chicago Bulls front office now turn their attention to an \\u2018important summer\\u2019 after a disappointing finish: \\u2018We will not settle for mediocrity here\\u2019 After the trade deadline, the Chicago Bulls thought they would be preparing this week for at least the play-in tournament, if not an outright playoff berth. Instead, they were left dumbfounded after a disappointing end to the season that preludes what almost certainly will be an active offseason. \"\u001b[39m,\n",
       "  \u001b[32m\"Jos\\u00e9 Abreu to miss the Chicago White Sox\\u2019s 3-game series vs. the Minnesota Twins with an ankle injury: \\u2018He\\u2019s gotten beat up the last couple days, no doubt\\u2019 The Chicago White Sox will be without first baseman Jos\\u00e9 Abreu for the entire three-game series against the Minnesota Twins at Target Field because of left ankle inflammation. Abreu suffered the injury while sli\u001b[39m..."
      ]
     },
     "execution_count": 14,
     "metadata": {},
     "output_type": "execute_result"
    }
   ],
   "source": [
    "val listRss = rssSource.parseResponse(urlRss)"
   ]
  },
  {
   "cell_type": "code",
   "execution_count": 15,
   "id": "d78c66ef-5b1b-4556-a7d1-9e0897729929",
   "metadata": {
    "tags": []
   },
   "outputs": [
    {
     "data": {
      "text/plain": [
       "\u001b[36mlistJson\u001b[39m: \u001b[32mSeq\u001b[39m[\u001b[32mString\u001b[39m] = \u001b[33mList\u001b[39m(\n",
       "  \u001b[32m\"\"\"Sunday Rant/Rage (May 16 2021) - Your weekly complaint thread! Note 1. Join our IRC, and Telegram chat-rooms! [Please see our wiki for instructions.]( )\n",
       "\n",
       "This weekly Sunday thread is for you to let off some steam and speak out about whatever complaint you might have about:  \n",
       "\n",
       "* Your device.  \n",
       "\n",
       "* Your carrier.  \n",
       "\n",
       "* Your device's manufacturer.  \n",
       "\n",
       "* An app  \n",
       "\n",
       "* Any other company\n",
       "\n",
       "***  \n",
       "\n",
       "**Rules**  \n",
       "\n",
       "1) Please do not target any individuals or try to name/shame any individual. If you hate Google/Samsung/HTC etc. for one thing that is fine, but do not be rude to an individual app developer.\n",
       "\n",
       "2) If you have a suggestion to solve another user's issue, please leave a comment but be sure it's constructive! We do not want any flame-wars.  \n",
       "\n",
       "3) Be respectful of other's opinions. Even if you feel that somebody is \"wrong\" you don't have to go out of your way to prove them wrong. Disagree politely, and move on. \"\"\"\u001b[39m,\n",
       "  \u001b[32m\"\"\"/r/Android Community Feedback Poll (February 2021 edition) Hey /r/android, we had conducted a [feedback poll]( ) last year. We have decided to make a few revisions (mainly a preferential voting system) since some of the results were rather open-ended and did not present a clear solution. Participation on the last poll was also lower than anticipated since we only got about [930 responses]( ).\n",
       "\n",
       "NOTES\n",
       "\n",
       "\u001b[39m..."
      ]
     },
     "execution_count": 15,
     "metadata": {},
     "output_type": "execute_result"
    }
   ],
   "source": [
    "val listJson = jsonSource.parseResponse(urlJson)"
   ]
  },
  {
   "cell_type": "markdown",
   "id": "initial-gambling",
   "metadata": {
    "id": "initial-gambling"
   },
   "source": [
    "## 2. Detectar las entidades nombradas"
   ]
  },
  {
   "cell_type": "markdown",
   "id": "portable-tender",
   "metadata": {
    "id": "portable-tender"
   },
   "source": [
    "### 2.1 Crear el modelo\n",
    "\n",
    "El **modelo** es sólo la función `getNEs`, que recibe una lista de textos.\n",
    "Para cada texto, se separa las palabras del texto usando los espacios, y considera que es una entidad nombrada si empieza con mayúscula."
   ]
  },
  {
   "cell_type": "code",
   "execution_count": 161,
   "id": "experimental-flight",
   "metadata": {
    "id": "experimental-flight",
    "outputId": "c44cc15f-5b68-4d85-c23b-47f587d725cf",
    "tags": []
   },
   "outputs": [
    {
     "data": {
      "text/plain": [
       "defined \u001b[32mclass\u001b[39m \u001b[36mNERCount\u001b[39m\n",
       "defined \u001b[32mclass\u001b[39m \u001b[36mNERModel\u001b[39m"
      ]
     },
     "execution_count": 161,
     "metadata": {},
     "output_type": "execute_result"
    }
   ],
   "source": [
    "case class NERCount(ner: String, count:Double)\n",
    "\n",
    "class NERModel(){\n",
    "    // Este código lista los signos de puntuación y algunas palabras comunes del inglés que se van a sacar del texto.\n",
    "    val STOPWORDS = Seq (\n",
    "        \"i\", \"me\", \"my\", \"myself\", \"we\", \"our\", \"ours\", \"ourselves\", \"you\",\n",
    "        \"yours\", \"yourself\", \"yourselves\", \"he\", \"him\", \"his\", \"himself\", \"she\",\n",
    "        \"her\", \"hers\", \"herself\", \"it\", \"its\", \"itself\", \"they\", \"them\", \"your\",\n",
    "        \"their\", \"theirs\", \"themselves\", \"what\", \"which\", \"who\", \"whom\",\n",
    "        \"this\", \"that\", \"these\", \"those\", \"am\", \"is\", \"are\", \"was\", \"were\",\n",
    "        \"be\", \"been\", \"being\", \"have\", \"has\", \"had\", \"having\", \"do\", \"does\",\n",
    "        \"did\", \"doing\", \"a\", \"an\", \"the\", \"and\", \"but\", \"if\", \"or\",\n",
    "        \"because\", \"as\", \"until\", \"while\", \"of\", \"at\", \"by\", \"for\", \"with\",\n",
    "        \"about\", \"against\", \"between\", \"into\", \"through\", \"during\", \"before\",\n",
    "        \"after\", \"above\", \"below\", \"to\", \"from\", \"up\", \"down\", \"in\", \"out\",\n",
    "        \"off\", \"over\", \"under\", \"again\", \"further\", \"then\", \"once\", \"here\",\n",
    "        \"there\", \"when\", \"where\", \"why\", \"how\", \"all\", \"any\", \"both\", \"each\",\n",
    "        \"few\", \"more\", \"most\", \"other\", \"some\", \"such\", \"no\", \"nor\", \"not\",\n",
    "        \"only\", \"own\", \"same\", \"so\", \"than\", \"too\", \"very\", \"s\", \"t\", \"can\",\n",
    "        \"will\", \"just\", \"don\", \"should\", \"now\", \"on\", \"thank\", \"enjoy\",\n",
    "        \"please\", \"may\", \"even\", \"forgot\", \"things\", \"well\", \"hey\", \"much\",\n",
    "        \"lets\", \"look\",\n",
    "        // Contractions without '\n",
    "        \"im\", \"ive\", \"id\", \"Youre\", \"youd\", \"youve\",\n",
    "        \"hes\", \"hed\", \"shes\", \"shed\", \"itd\", \"were\", \"wed\", \"weve\",\n",
    "        \"theyre\", \"theyd\", \"theyve\",\n",
    "        \"shouldnt\", \"couldnt\", \"musnt\", \"cant\", \"wont\",\n",
    "        // Common uppercase words\n",
    "        \"hi\", \"hello\", \"url\"\n",
    "    )\n",
    "    val punctuationSymbols = \".,()!?;:'`´\\n<>-’\"\n",
    "    val punctuationRegex = \"\\\\\" + punctuationSymbols.split(\"\").mkString(\"|\\\\\")\n",
    "    \n",
    "    // Extract Named Entities from a single text\n",
    "    def getNEsSingle(text: String): Seq[String] =\n",
    "      text.replaceAll(punctuationRegex, \"\").split(\" \")\n",
    "        .filter { word:String => word.length > 1 &&\n",
    "                  Character.isUpperCase(word.charAt(0)) &&\n",
    "                  !STOPWORDS.contains(word.toLowerCase) }.toSeq\n",
    "\n",
    "    def getNEs(textList: Seq[String]): Seq[Seq[String]] = textList.map(getNEsSingle)\n",
    "    \n",
    "    //Count and sort Named Entities\n",
    "    \n",
    "    def getCounts(result: Seq[Seq[String]]): Seq[Map[String, Double]] = {\n",
    "      val countsMaps: Seq[Map[String, Double]] = result.map { list =>\n",
    "        list.foldLeft(Map.empty[String, Double]) {\n",
    "          (count, word) => count + (word -> (count.getOrElse(word, 0.0) + 1.0))\n",
    "        }\n",
    "      } \n",
    "      countsMaps.map {\n",
    "          Map => Map mapValues (_/Map.values.sum) }\n",
    "    }\n",
    "    \n",
    "\n",
    "    def sortNEs(result: Seq[Seq[String]]): List[NERCount] = {\n",
    "        val counts: Map[String, Double] = getCounts(result).flatten\n",
    "            .foldLeft(Map.empty[String, Double]) {\n",
    "            (count, wordCount) => count + (wordCount._1 -> (count.getOrElse(wordCount._1, 0.0) + wordCount._2)) }\n",
    "        counts.toList.map { case (word, count) => NERCount(word, count) }\n",
    "        .sortBy(_.count)(Ordering[Double].reverse)\n",
    "    }\n",
    "    \n",
    "}"
   ]
  },
  {
   "cell_type": "code",
   "execution_count": 162,
   "id": "d87002ce-8470-4a45-b871-de855f5ebbfc",
   "metadata": {
    "id": "d87002ce-8470-4a45-b871-de855f5ebbfc",
    "outputId": "ae4eec07-8bf5-4a25-ad61-426460393e6e",
    "tags": []
   },
   "outputs": [
    {
     "data": {
      "text/plain": [
       "\u001b[36mmodel\u001b[39m: \u001b[32mNERModel\u001b[39m = ammonite.$sess.cmd160$Helper$NERModel@5d848e99"
      ]
     },
     "execution_count": 162,
     "metadata": {},
     "output_type": "execute_result"
    }
   ],
   "source": [
    "val model = new NERModel"
   ]
  },
  {
   "cell_type": "markdown",
   "id": "victorian-moderator",
   "metadata": {
    "id": "victorian-moderator"
   },
   "source": [
    "### 2.2 Aplicar el \"Modelo\" a los datos"
   ]
  },
  {
   "cell_type": "code",
   "execution_count": 163,
   "id": "educated-bronze",
   "metadata": {
    "id": "educated-bronze",
    "outputId": "a6069a08-38f3-4835-9b63-66604509c12e",
    "tags": []
   },
   "outputs": [
    {
     "data": {
      "text/plain": [
       "\u001b[36mresultRss\u001b[39m: \u001b[32mSeq\u001b[39m[\u001b[32mSeq\u001b[39m[\u001b[32mString\u001b[39m]] = \u001b[33mList\u001b[39m(\n",
       "  \u001b[33mArrayBuffer\u001b[39m(\n",
       "    \u001b[32m\"Chicago\"\u001b[39m,\n",
       "    \u001b[32m\"Bears\"\u001b[39m,\n",
       "    \u001b[32m\"Anthony\"\u001b[39m,\n",
       "    \u001b[32m\"Miller\"\u001b[39m,\n",
       "    \u001b[32m\"Germain\"\u001b[39m,\n",
       "    \u001b[32m\"Ifedi\"\u001b[39m,\n",
       "    \u001b[32m\"Chicago\"\u001b[39m,\n",
       "    \u001b[32m\"Bears\"\u001b[39m,\n",
       "    \u001b[32m\"Anthony\"\u001b[39m,\n",
       "    \u001b[32m\"Miller\"\u001b[39m,\n",
       "    \u001b[32m\"Allen\"\u001b[39m,\n",
       "    \u001b[32m\"Robinson\"\u001b[39m,\n",
       "    \u001b[32m\"Jimmy\"\u001b[39m,\n",
       "    \u001b[32m\"Graham\"\u001b[39m,\n",
       "    \u001b[32m\"Germain\"\u001b[39m,\n",
       "    \u001b[32m\"Ifedi\"\u001b[39m\n",
       "  ),\n",
       "  \u001b[33mArrayBuffer\u001b[39m(\n",
       "    \u001b[32m\"Justin\"\u001b[39m,\n",
       "    \u001b[32m\"Fields\"\u001b[39m,\n",
       "    \u001b[32m\"Chicago\"\u001b[39m,\n",
       "    \u001b[32m\"Bears\"\u001b[39m,\n",
       "    \u001b[32m\"QBs\"\u001b[39m,\n",
       "    \u001b[32m\"Conventional\"\u001b[39m,\n",
       "    \u001b[32m\"Chicago\"\u001b[39m,\n",
       "    \u001b[32m\"Bears\"\u001b[39m,\n",
       "    \u001b[32m\"Andy\"\u001b[39m,\n",
       "    \u001b[32m\"Dalton\"\u001b[39m,\n",
       "    \u001b[32m\"QB\"\u001b[39m,\n",
       "    \u001b[32m\"Justin\"\u001b[39m,\n",
       "    \u001b[32m\"Fields\"\u001b[39m,\n",
       "    \u001b[32m\"Matt\"\u001b[39m,\n",
       "    \u001b[32m\"Nagy\"\u001b[39m\n",
       "  ),\n",
       "  \u001b[33mArrayBuffer\u001b[39m(\n",
       "    \u001b[32m\"Chicago\"\u001b[39m,\n",
       "    \u001b[32m\"Cubs\"\u001b[39m,\n",
       "..."
      ]
     },
     "execution_count": 163,
     "metadata": {},
     "output_type": "execute_result"
    }
   ],
   "source": [
    "val resultRss = model.getNEs(listRss)"
   ]
  },
  {
   "cell_type": "code",
   "execution_count": 165,
   "id": "fa4ca62a-f4d8-43ed-b296-bbea01349d45",
   "metadata": {
    "id": "fa4ca62a-f4d8-43ed-b296-bbea01349d45",
    "outputId": "bf898dfc-9235-46bc-9978-4aae33c02d63",
    "tags": []
   },
   "outputs": [
    {
     "data": {
      "text/plain": [
       "\u001b[36mresultJson\u001b[39m: \u001b[32mSeq\u001b[39m[\u001b[32mSeq\u001b[39m[\u001b[32mString\u001b[39m]] = \u001b[33mList\u001b[39m(\n",
       "  \u001b[33mArrayBuffer\u001b[39m(\n",
       "    \u001b[32m\"Sunday\"\u001b[39m,\n",
       "    \u001b[32m\"Rant/Rage\"\u001b[39m,\n",
       "    \u001b[32m\"Note\"\u001b[39m,\n",
       "    \u001b[32m\"Join\"\u001b[39m,\n",
       "    \u001b[32m\"IRC\"\u001b[39m,\n",
       "    \u001b[32m\"Telegram\"\u001b[39m,\n",
       "    \u001b[32m\"Sunday\"\u001b[39m,\n",
       "    \u001b[32m\"Google/Samsung/HTC\"\u001b[39m,\n",
       "    \u001b[32m\"Disagree\"\u001b[39m\n",
       "  ),\n",
       "  \u001b[33mArrayBuffer\u001b[39m(\n",
       "    \u001b[32m\"Community\"\u001b[39m,\n",
       "    \u001b[32m\"Feedback\"\u001b[39m,\n",
       "    \u001b[32m\"Poll\"\u001b[39m,\n",
       "    \u001b[32m\"February\"\u001b[39m,\n",
       "    \u001b[32m\"Participation\"\u001b[39m,\n",
       "    \u001b[32m\"NOTES*\"\u001b[39m,\n",
       "    \u001b[32m\"Google\"\u001b[39m,\n",
       "    \u001b[32m\"Forms\"\u001b[39m,\n",
       "    \u001b[32m\"Email\"\u001b[39m,\n",
       "    \u001b[32m\"Responses\"\u001b[39m,\n",
       "    \u001b[32m\"POLL]\"\u001b[39m,\n",
       "    \u001b[32m\"Edit\"\u001b[39m\n",
       "  ),\n",
       "  \u001b[33mArrayBuffer\u001b[39m(\u001b[32m\"Google\"\u001b[39m, \u001b[32m\"I/O\"\u001b[39m, \u001b[32m\"Keynote\"\u001b[39m),\n",
       "  \u001b[33mArrayBuffer\u001b[39m(\u001b[32m\"Magisk\"\u001b[39m, \u001b[32m\"Apple\"\u001b[39m, \u001b[32m\"Androids\"\u001b[39m),\n",
       "  \u001b[33mArrayBuffer\u001b[39m(\u001b[32m\"Flexible\"\u001b[39m, \u001b[32m\"Samsung\"\u001b[39m, \u001b[32m\"OLED\"\u001b[39m, \u001b[32m\"SID\"\u001b[39m, \u001b[32m\"Display\"\u001b[39m, \u001b[32m\"Week\"\u001b[39m),\n",
       "  \u001b[33mArrayBuffer\u001b[39m(\u001b[32m\"Android\"\u001b[39m, \u001b[32m\"Privacy\"\u001b[39m, \u001b[32m\"Dashboard\"\u001b[39m),\n",
       "  \u001b[33mArrayBuffer\u001b[39m(\u001b[32m\"New\"\u001b[39m, \u001b[32m\"Google\"\u001b[39m, \u001b[32m\"Photos\"\u001b[39m),\n",
       "  \u001b[33mArrayBuffer\u001b[39m(\n",
       "    \u001b[32m\"Samsung\"\u001b[39m,\n",
       "    \u001b[32m\"Display\"\u001b[39m,\n",
       "    \u001b[32m\"Display\"\u001b[39m,\n",
       "    \u001b[32m\"Week\"\u001b[39m,\n",
       "    \u001b[32m\"Sfoldable\"\u001b[39m,\n",
       "    \u001b[32m\"PC\"\u001b[39m,\n",
       "    \u001b[32m\"Slidable\"\u001b[39m,\n",
       "..."
      ]
     },
     "execution_count": 165,
     "metadata": {},
     "output_type": "execute_result"
    }
   ],
   "source": [
    "val resultJson = model.getNEs(listJson)"
   ]
  },
  {
   "cell_type": "code",
   "execution_count": 164,
   "id": "8002443d-cda0-47e0-8870-3553c9dcbe1e",
   "metadata": {},
   "outputs": [
    {
     "data": {
      "text/plain": [
       "\u001b[36mresultStack\u001b[39m: \u001b[32mSeq\u001b[39m[\u001b[32mSeq\u001b[39m[\u001b[32mString\u001b[39m]] = \u001b[33mList\u001b[39m(\n",
       "  \u001b[33mArrayBuffer\u001b[39m(\u001b[32m\"Efficient\"\u001b[39m),\n",
       "  \u001b[33mArrayBuffer\u001b[39m(),\n",
       "  \u001b[33mArrayBuffer\u001b[39m(),\n",
       "  \u001b[33mArrayBuffer\u001b[39m(\u001b[32m\"Need\"\u001b[39m, \u001b[32m\"HPC\"\u001b[39m, \u001b[32m\"MZ\"\u001b[39m, \u001b[32m\"Azure\"\u001b[39m),\n",
       "  \u001b[33mArrayBuffer\u001b[39m(),\n",
       "  \u001b[33mArrayBuffer\u001b[39m(\u001b[32m\"Using\"\u001b[39m),\n",
       "  \u001b[33mArrayBuffer\u001b[39m(\u001b[32m\"SSH2\"\u001b[39m, \u001b[32m\"Nodejs\"\u001b[39m),\n",
       "  \u001b[33mArrayBuffer\u001b[39m(\u001b[32m\"PyKinectv2\"\u001b[39m, \u001b[32m\"Body\"\u001b[39m),\n",
       "  \u001b[33mArrayBuffer\u001b[39m(),\n",
       "  \u001b[33mArrayBuffer\u001b[39m(\u001b[32m\"Add\"\u001b[39m),\n",
       "  \u001b[33mArrayBuffer\u001b[39m(\n",
       "    \u001b[32m\"Can&#39t\"\u001b[39m,\n",
       "    \u001b[32m\"Output\"\u001b[39m,\n",
       "    \u001b[32m\"Seaborn\"\u001b[39m,\n",
       "    \u001b[32m\"Scatterplot\"\u001b[39m,\n",
       "    \u001b[32m\"Tkinter\"\u001b[39m,\n",
       "    \u001b[32m\"Frame\"\u001b[39m\n",
       "  ),\n",
       "  \u001b[33mArrayBuffer\u001b[39m(\u001b[32m\"Mathrandom\"\u001b[39m),\n",
       "  \u001b[33mArrayBuffer\u001b[39m(\u001b[32m\"Adding\"\u001b[39m, \u001b[32m\"Festival\"\u001b[39m, \u001b[32m\"Software\"\u001b[39m),\n",
       "  \u001b[33mArrayBuffer\u001b[39m(),\n",
       "  \u001b[33mArrayBuffer\u001b[39m(\u001b[32m\"Storing\"\u001b[39m, \u001b[32m\"Unity\"\u001b[39m, \u001b[32m\"WebGL\"\u001b[39m),\n",
       "  \u001b[33mArrayBuffer\u001b[39m(\u001b[32m\"CSV\"\u001b[39m, \u001b[32m\"Python\"\u001b[39m, \u001b[32m\"I&#39d\"\u001b[39m),\n",
       "  \u001b[33mArrayBuffer\u001b[39m(\u001b[32m\"NetBeans\"\u001b[39m, \u001b[32m\"JavaFX\"\u001b[39m, \u001b[32m\"FXMLLoader\"\u001b[39m, \u001b[32m\"Problem\"\u001b[39m),\n",
       "  \u001b[33mArrayBuffer\u001b[39m(\u001b[32m\"Replace\"\u001b[39m, \u001b[32m\"HTML\"\u001b[39m, \u001b[32m\"Unicode\"\u001b[39m, \u001b[32m\"Swift\"\u001b[39m, \u001b[32m\"Unicode\"\u001b[39m),\n",
       "  \u001b[33mArrayBuffer\u001b[39m(\u001b[32m\"Format\"\u001b[39m, \u001b[32m\"JSON\"\u001b[39m),\n",
       "  \u001b[33mArrayBuffer\u001b[39m(\u001b[32m\"Due\"\u001b[39m, \u001b[32m\"TIME_WAIT\"\u001b[39m),\n",
       "  \u001b[33mArrayBuffer\u001b[39m(\u001b[32m\"Determine\"\u001b[39m),\n",
       "  \u001b[33mArrayBuffer\u001b[39m(\u001b[32m\"Order\"\u001b[39m),\n",
       "  \u001b[33mArrayBuffer\u001b[39m(\u001b[32m\"Type\"\u001b[39m, \u001b[32m\"Type\"\u001b[39m, \u001b[32m\"Excel\"\u001b[39m),\n",
       "  \u001b[33mArrayBuffer\u001b[39m(),\n",
       "  \u001b[33mArrayBuffer\u001b[39m(\u001b[32m\"Route\"\u001b[39m),\n",
       "  \u001b[33mArrayBuffer\u001b[39m(),\n",
       "  \u001b[33mArrayBuffer\u001b[39m(\u001b[32m\"Scrapy\"\u001b[39m, \u001b[32m\"Request\"\u001b[39m),\n",
       "  \u001b[33mArrayBuffer\u001b[39m(\u001b[32m\"Flask\"\u001b[39m),\n",
       "  \u001b[33mArrayBuffer\u001b[39m(\u001b[32m\"Socket\"\u001b[39m, \u001b[32m\"TCP\"\u001b[39m, \u001b[32m\"Client\"\u001b[39m),\n",
       "  \u001b[33mArrayBuffer\u001b[39m(\u001b[32m\"Change\"\u001b[39m, \u001b[32m\"PyCharm\"\u001b[39m)\n",
       ")"
      ]
     },
     "execution_count": 164,
     "metadata": {},
     "output_type": "execute_result"
    }
   ],
   "source": [
    "val resultStack = model.getNEs(listStack)"
   ]
  },
  {
   "cell_type": "markdown",
   "id": "located-cookbook",
   "metadata": {
    "id": "located-cookbook",
    "tags": []
   },
   "source": [
    "## 3. Contar y ordenar las entidades\n",
    "\n",
    "Concatenar todas las listas, contar cada Named Entity, y luego ordernar por frecuencia"
   ]
  },
  {
   "cell_type": "code",
   "execution_count": 166,
   "id": "9ac3406d-241c-40d2-8a22-f60daae8dd7b",
   "metadata": {},
   "outputs": [
    {
     "data": {
      "text/plain": [
       "\u001b[36mstackCounts\u001b[39m: \u001b[32mSeq\u001b[39m[\u001b[32mMap\u001b[39m[\u001b[32mString\u001b[39m, \u001b[32mDouble\u001b[39m]] = \u001b[33mList\u001b[39m(\n",
       "  \u001b[33mMap\u001b[39m(\u001b[32m\"Efficient\"\u001b[39m -> \u001b[32m1.0\u001b[39m),\n",
       "  \u001b[33mMap\u001b[39m(),\n",
       "  \u001b[33mMap\u001b[39m(),\n",
       "  \u001b[33mMap\u001b[39m(\u001b[32m\"Need\"\u001b[39m -> \u001b[32m0.25\u001b[39m, \u001b[32m\"HPC\"\u001b[39m -> \u001b[32m0.25\u001b[39m, \u001b[32m\"MZ\"\u001b[39m -> \u001b[32m0.25\u001b[39m, \u001b[32m\"Azure\"\u001b[39m -> \u001b[32m0.25\u001b[39m),\n",
       "  \u001b[33mMap\u001b[39m(),\n",
       "  \u001b[33mMap\u001b[39m(\u001b[32m\"Using\"\u001b[39m -> \u001b[32m1.0\u001b[39m),\n",
       "  \u001b[33mMap\u001b[39m(\u001b[32m\"SSH2\"\u001b[39m -> \u001b[32m0.5\u001b[39m, \u001b[32m\"Nodejs\"\u001b[39m -> \u001b[32m0.5\u001b[39m),\n",
       "  \u001b[33mMap\u001b[39m(\u001b[32m\"PyKinectv2\"\u001b[39m -> \u001b[32m0.5\u001b[39m, \u001b[32m\"Body\"\u001b[39m -> \u001b[32m0.5\u001b[39m),\n",
       "  \u001b[33mMap\u001b[39m(),\n",
       "  \u001b[33mMap\u001b[39m(\u001b[32m\"Add\"\u001b[39m -> \u001b[32m1.0\u001b[39m),\n",
       "  \u001b[33mMap\u001b[39m(\n",
       "    \u001b[32m\"Frame\"\u001b[39m -> \u001b[32m0.16666666666666666\u001b[39m,\n",
       "    \u001b[32m\"Seaborn\"\u001b[39m -> \u001b[32m0.16666666666666666\u001b[39m,\n",
       "    \u001b[32m\"Can&#39t\"\u001b[39m -> \u001b[32m0.16666666666666666\u001b[39m,\n",
       "    \u001b[32m\"Scatterplot\"\u001b[39m -> \u001b[32m0.16666666666666666\u001b[39m,\n",
       "    \u001b[32m\"Output\"\u001b[39m -> \u001b[32m0.16666666666666666\u001b[39m,\n",
       "    \u001b[32m\"Tkinter\"\u001b[39m -> \u001b[32m0.16666666666666666\u001b[39m\n",
       "  ),\n",
       "  \u001b[33mMap\u001b[39m(\u001b[32m\"Mathrandom\"\u001b[39m -> \u001b[32m1.0\u001b[39m),\n",
       "  \u001b[33mMap\u001b[39m(\n",
       "    \u001b[32m\"Adding\"\u001b[39m -> \u001b[32m0.3333333333333333\u001b[39m,\n",
       "    \u001b[32m\"Festival\"\u001b[39m -> \u001b[32m0.3333333333333333\u001b[39m,\n",
       "    \u001b[32m\"Software\"\u001b[39m -> \u001b[32m0.3333333333333333\u001b[39m\n",
       "  ),\n",
       "  \u001b[33mMap\u001b[39m(),\n",
       "  \u001b[33mMap\u001b[39m(\n",
       "    \u001b[32m\"Storing\"\u001b[39m -> \u001b[32m0.3333333333333333\u001b[39m,\n",
       "    \u001b[32m\"Unity\"\u001b[39m -> \u001b[32m0.3333333333333333\u001b[39m,\n",
       "    \u001b[32m\"WebGL\"\u001b[39m -> \u001b[32m0.3333333333333333\u001b[39m\n",
       "  ),\n",
       "  \u001b[33mMap\u001b[39m(\n",
       "    \u001b[32m\"CSV\"\u001b[39m -> \u001b[32m0.3333333333333333\u001b[39m,\n",
       "    \u001b[32m\"Python\"\u001b[39m -> \u001b[32m0.3333333333333333\u001b[39m,\n",
       "    \u001b[32m\"I&#39d\"\u001b[39m -> \u001b[32m0.3333333333333333\u001b[39m\n",
       "  ),\n",
       "  \u001b[33mMap\u001b[39m(\n",
       "    \u001b[32m\"NetBeans\"\u001b[39m -> \u001b[32m0.25\u001b[39m,\n",
       "    \u001b[32m\"JavaFX\"\u001b[39m -> \u001b[32m0.25\u001b[39m,\n",
       "..."
      ]
     },
     "execution_count": 166,
     "metadata": {},
     "output_type": "execute_result"
    }
   ],
   "source": [
    "val stackCounts = model.getCounts(resultStack)"
   ]
  },
  {
   "cell_type": "code",
   "execution_count": 167,
   "id": "df95fde9-5ce3-4b2a-85ac-a2921ab2a6b3",
   "metadata": {},
   "outputs": [
    {
     "data": {
      "text/plain": [
       "\u001b[36mrssCounts\u001b[39m: \u001b[32mSeq\u001b[39m[\u001b[32mMap\u001b[39m[\u001b[32mString\u001b[39m, \u001b[32mDouble\u001b[39m]] = \u001b[33mList\u001b[39m(\n",
       "  \u001b[33mMap\u001b[39m(\n",
       "    \u001b[32m\"Ifedi\"\u001b[39m -> \u001b[32m0.125\u001b[39m,\n",
       "    \u001b[32m\"Anthony\"\u001b[39m -> \u001b[32m0.125\u001b[39m,\n",
       "    \u001b[32m\"Germain\"\u001b[39m -> \u001b[32m0.125\u001b[39m,\n",
       "    \u001b[32m\"Chicago\"\u001b[39m -> \u001b[32m0.125\u001b[39m,\n",
       "    \u001b[32m\"Allen\"\u001b[39m -> \u001b[32m0.0625\u001b[39m,\n",
       "    \u001b[32m\"Graham\"\u001b[39m -> \u001b[32m0.0625\u001b[39m,\n",
       "    \u001b[32m\"Miller\"\u001b[39m -> \u001b[32m0.125\u001b[39m,\n",
       "    \u001b[32m\"Bears\"\u001b[39m -> \u001b[32m0.125\u001b[39m,\n",
       "    \u001b[32m\"Robinson\"\u001b[39m -> \u001b[32m0.0625\u001b[39m,\n",
       "    \u001b[32m\"Jimmy\"\u001b[39m -> \u001b[32m0.0625\u001b[39m\n",
       "  ),\n",
       "  \u001b[33mMap\u001b[39m(\n",
       "    \u001b[32m\"Matt\"\u001b[39m -> \u001b[32m0.06666666666666667\u001b[39m,\n",
       "    \u001b[32m\"QBs\"\u001b[39m -> \u001b[32m0.06666666666666667\u001b[39m,\n",
       "    \u001b[32m\"QB\"\u001b[39m -> \u001b[32m0.06666666666666667\u001b[39m,\n",
       "    \u001b[32m\"Conventional\"\u001b[39m -> \u001b[32m0.06666666666666667\u001b[39m,\n",
       "    \u001b[32m\"Chicago\"\u001b[39m -> \u001b[32m0.13333333333333333\u001b[39m,\n",
       "    \u001b[32m\"Dalton\"\u001b[39m -> \u001b[32m0.06666666666666667\u001b[39m,\n",
       "    \u001b[32m\"Nagy\"\u001b[39m -> \u001b[32m0.06666666666666667\u001b[39m,\n",
       "    \u001b[32m\"Andy\"\u001b[39m -> \u001b[32m0.06666666666666667\u001b[39m,\n",
       "    \u001b[32m\"Bears\"\u001b[39m -> \u001b[32m0.13333333333333333\u001b[39m,\n",
       "    \u001b[32m\"Fields\"\u001b[39m -> \u001b[32m0.13333333333333333\u001b[39m,\n",
       "    \u001b[32m\"Justin\"\u001b[39m -> \u001b[32m0.13333333333333333\u001b[39m\n",
       "  ),\n",
       "  \u001b[33mMap\u001b[39m(\n",
       "    \u001b[32m\"Lester\"\u001b[39m -> \u001b[32m0.1111111111111111\u001b[39m,\n",
       "    \u001b[32m\"Nationals\"\u001b[39m -> \u001b[32m0.1111111111111111\u001b[39m,\n",
       "    \u001b[32m\"Washington\"\u001b[39m -> \u001b[32m0.05555555555555555\u001b[39m,\n",
       "    \u001b[32m\"Schwarber\"\u001b[39m -> \u001b[32m0.1111111111111111\u001b[39m,\n",
       "    \u001b[32m\"Kyle\"\u001b[39m -> \u001b[32m0.1111111111111111\u001b[39m,\n",
       "    \u001b[32m\"Chicago\"\u001b[39m -> \u001b[32m0.1111111111111111\u001b[39m,\n",
       "    \u001b[32m\"Field\"\u001b[39m -> \u001b[32m0.05555555555555555\u001b[39m,\n",
       "    \u001b[32m\"Another\"\u001b[39m -> \u001b[32m0.05555555555555555\u001b[39m,\n",
       "    \u001b[32m\"Jon\"\u001b[39m -> \u001b[32m0.1111111111111111\u001b[39m,\n",
       "    \u001b[32m\"Cubs\"\u001b[39m -> \u001b[32m0.1111111111111111\u001b[39m,\n",
       "    \u001b[32m\"Wrigley\"\u001b[39m -> \u001b[32m0.05555555555555555\u001b[39m\n",
       "  ),\n",
       "..."
      ]
     },
     "execution_count": 167,
     "metadata": {},
     "output_type": "execute_result"
    }
   ],
   "source": [
    "val rssCounts = model.getCounts(resultRss)"
   ]
  },
  {
   "cell_type": "code",
   "execution_count": 168,
   "id": "60b681d6-c880-4454-9244-27db19e529d0",
   "metadata": {},
   "outputs": [
    {
     "data": {
      "text/plain": [
       "\u001b[36mres167\u001b[39m: \u001b[32mSeq\u001b[39m[\u001b[32mDouble\u001b[39m] = \u001b[33mList\u001b[39m(\n",
       "  \u001b[32m1.0\u001b[39m,\n",
       "  \u001b[32m0.9999999999999999\u001b[39m,\n",
       "  \u001b[32m1.0000000000000002\u001b[39m,\n",
       "  \u001b[32m1.0\u001b[39m,\n",
       "  \u001b[32m1.0\u001b[39m,\n",
       "  \u001b[32m0.9999999999999998\u001b[39m,\n",
       "  \u001b[32m0.9999999999999999\u001b[39m,\n",
       "  \u001b[32m0.9999999999999998\u001b[39m,\n",
       "  \u001b[32m0.9999999999999998\u001b[39m,\n",
       "  \u001b[32m1.0000000000000002\u001b[39m,\n",
       "  \u001b[32m1.0\u001b[39m,\n",
       "  \u001b[32m1.0\u001b[39m,\n",
       "  \u001b[32m1.0\u001b[39m,\n",
       "  \u001b[32m1.0\u001b[39m,\n",
       "  \u001b[32m0.9999999999999999\u001b[39m,\n",
       "  \u001b[32m1.0\u001b[39m,\n",
       "  \u001b[32m1.0\u001b[39m,\n",
       "  \u001b[32m0.9999999999999998\u001b[39m,\n",
       "  \u001b[32m1.0\u001b[39m,\n",
       "  \u001b[32m1.0\u001b[39m,\n",
       "  \u001b[32m1.0\u001b[39m,\n",
       "  \u001b[32m1.0\u001b[39m,\n",
       "  \u001b[32m1.0\u001b[39m,\n",
       "  \u001b[32m0.9999999999999996\u001b[39m,\n",
       "  \u001b[32m1.0\u001b[39m\n",
       ")"
      ]
     },
     "execution_count": 168,
     "metadata": {},
     "output_type": "execute_result"
    }
   ],
   "source": [
    "rssCounts.map { mp => mp.values.sum }"
   ]
  },
  {
   "cell_type": "code",
   "execution_count": 169,
   "id": "57182394-5205-4814-9690-cdfee67bed85",
   "metadata": {
    "id": "57182394-5205-4814-9690-cdfee67bed85",
    "outputId": "d3d43a25-13d1-4115-fe4f-813e356be03c",
    "tags": []
   },
   "outputs": [
    {
     "data": {
      "text/plain": [
       "\u001b[36msortedNEs\u001b[39m: \u001b[32mList\u001b[39m[\u001b[32mNERCount\u001b[39m] = \u001b[33mList\u001b[39m(\n",
       "  \u001b[33mNERCount\u001b[39m(\u001b[32m\"Chicago\"\u001b[39m, \u001b[32m3.0354384177913585\u001b[39m),\n",
       "  \u001b[33mNERCount\u001b[39m(\u001b[32m\"Cubs\"\u001b[39m, \u001b[32m1.0075396825396825\u001b[39m),\n",
       "  \u001b[33mNERCount\u001b[39m(\u001b[32m\"White\"\u001b[39m, \u001b[32m0.7749766573295984\u001b[39m),\n",
       "  \u001b[33mNERCount\u001b[39m(\u001b[32m\"Sox\"\u001b[39m, \u001b[32m0.6712184873949579\u001b[39m),\n",
       "  \u001b[33mNERCount\u001b[39m(\u001b[32m\"Bears\"\u001b[39m, \u001b[32m0.583008658008658\u001b[39m),\n",
       "  \u001b[33mNERCount\u001b[39m(\u001b[32m\"Bulls\"\u001b[39m, \u001b[32m0.5357142857142857\u001b[39m),\n",
       "  \u001b[33mNERCount\u001b[39m(\u001b[32m\"Field\"\u001b[39m, \u001b[32m0.4913632119514473\u001b[39m),\n",
       "  \u001b[33mNERCount\u001b[39m(\u001b[32m\"Kyle\"\u001b[39m, \u001b[32m0.42658730158730157\u001b[39m),\n",
       "  \u001b[33mNERCount\u001b[39m(\u001b[32m\"Photos\"\u001b[39m, \u001b[32m0.39470333587980644\u001b[39m),\n",
       "  \u001b[33mNERCount\u001b[39m(\u001b[32m\"Fields\"\u001b[39m, \u001b[32m0.3865800865800866\u001b[39m),\n",
       "  \u001b[33mNERCount\u001b[39m(\u001b[32m\"Justin\"\u001b[39m, \u001b[32m0.3865800865800866\u001b[39m),\n",
       "  \u001b[33mNERCount\u001b[39m(\u001b[32m\"Abreu\"\u001b[39m, \u001b[32m0.3537581699346405\u001b[39m),\n",
       "  \u001b[33mNERCount\u001b[39m(\u001b[32m\"Wrigley\"\u001b[39m, \u001b[32m0.346031746031746\u001b[39m),\n",
       "  \u001b[33mNERCount\u001b[39m(\u001b[32m\"COVID19\"\u001b[39m, \u001b[32m0.34285714285714286\u001b[39m),\n",
       "  \u001b[33mNERCount\u001b[39m(\u001b[32m\"Tigers\"\u001b[39m, \u001b[32m0.3392857142857143\u001b[39m),\n",
       "  \u001b[33mNERCount\u001b[39m(\u001b[32m\"Hendricks\"\u001b[39m, \u001b[32m0.3392857142857143\u001b[39m),\n",
       "  \u001b[33mNERCount\u001b[39m(\u001b[32m\"City\"\u001b[39m, \u001b[32m0.3361928104575163\u001b[39m),\n",
       "  \u001b[33mNERCount\u001b[39m(\u001b[32m\"Jos\\u00e9\"\u001b[39m, \u001b[32m0.31209150326797386\u001b[39m),\n",
       "  \u001b[33mNERCount\u001b[39m(\u001b[32m\"NBAs\"\u001b[39m, \u001b[32m0.3111111111111111\u001b[39m),\n",
       "  \u001b[33mNERCount\u001b[39m(\u001b[32m\"Monday\"\u001b[39m, \u001b[32m0.28154761904761905\u001b[39m),\n",
       "  \u001b[33mNERCount\u001b[39m(\u001b[32m\"Royals\"\u001b[39m, \u001b[32m0.27369281045751637\u001b[39m),\n",
       "  \u001b[33mNERCount\u001b[39m(\u001b[32m\"Detroit\"\u001b[39m, \u001b[32m0.26785714285714285\u001b[39m),\n",
       "  \u001b[33mNERCount\u001b[39m(\u001b[32m\"Nationals\"\u001b[39m, \u001b[32m0.25396825396825395\u001b[39m),\n",
       "  \u001b[33mNERCount\u001b[39m(\u001b[32m\"Michael\"\u001b[39m, \u001b[32m0.24064171122994654\u001b[39m),\n",
       "  \u001b[33mNERCount\u001b[39m(\u001b[32m\"Tier\"\u001b[39m, \u001b[32m0.225\u001b[39m),\n",
       "  \u001b[33mNERCount\u001b[39m(\u001b[32m\"Albert\"\u001b[39m, \u001b[32m0.2222222222222222\u001b[39m),\n",
       "  \u001b[33mNERCount\u001b[39m(\u001b[32m\"Marv\"\u001b[39m, \u001b[32m0.2222222222222222\u001b[39m),\n",
       "  \u001b[33mNERCount\u001b[39m(\u001b[32m\"Kansas\"\u001b[39m, \u001b[32m0.21486928104575162\u001b[39m),\n",
       "  \u001b[33mNERCount\u001b[39m(\u001b[32m\"Matt\"\u001b[39m, \u001b[32m0.2095238095238095\u001b[39m),\n",
       "  \u001b[33mNERCount\u001b[39m(\u001b[32m\"Nagy\"\u001b[39m, \u001b[32m0.2095238095238095\u001b[39m),\n",
       "  \u001b[33mNERCount\u001b[39m(\u001b[32m\"Lester\"\u001b[39m, \u001b[32m0.20634920634920634\u001b[39m),\n",
       "  \u001b[33mNERCount\u001b[39m(\u001b[32m\"Jon\"\u001b[39m, \u001b[32m0.20634920634920634\u001b[39m),\n",
       "  \u001b[33mNERCount\u001b[39m(\u001b[32m\"Red\"\u001b[39m, \u001b[32m0.18181818181818182\u001b[39m),\n",
       "  \u001b[33mNERCount\u001b[39m(\u001b[32m\"Thorns\"\u001b[39m, \u001b[32m0.18181818181818182\u001b[39m),\n",
       "  \u001b[33mNERCount\u001b[39m(\u001b[32m\"Jordans\"\u001b[39m, \u001b[32m0.18181818181818182\u001b[39m),\n",
       "  \u001b[33mNERCount\u001b[39m(\u001b[32m\"Portland\"\u001b[39m, \u001b[32m0.18181818181818182\u001b[39m),\n",
       "  \u001b[33mNERCount\u001b[39m(\u001b[32m\"Stars\"\u001b[39m, \u001b[32m0.18181818181818182\u001b[39m),\n",
       "  \u001b[33mNERCount\u001b[39m(\u001b[32m\"Minnesota\"\u001b[39m, \u001b[32m0.17857142857142855\u001b[39m),\n",
       "..."
      ]
     },
     "execution_count": 169,
     "metadata": {},
     "output_type": "execute_result"
    }
   ],
   "source": [
    "val sortedNEs = model.sortNEs(resultRss)"
   ]
  },
  {
   "cell_type": "code",
   "execution_count": 170,
   "id": "a38fe1c1-f895-4fb1-b7ba-1779259f4f81",
   "metadata": {
    "id": "a38fe1c1-f895-4fb1-b7ba-1779259f4f81",
    "outputId": "893792e8-bf0f-4410-f942-eed055aaba3a",
    "tags": []
   },
   "outputs": [
    {
     "data": {
      "text/plain": [
       "\u001b[36msortiaDo\u001b[39m: \u001b[32mList\u001b[39m[\u001b[32mNERCount\u001b[39m] = \u001b[33mList\u001b[39m(\n",
       "  \u001b[33mNERCount\u001b[39m(\u001b[32m\"Android\"\u001b[39m, \u001b[32m2.1337923728813557\u001b[39m),\n",
       "  \u001b[33mNERCount\u001b[39m(\u001b[32m\"Google\"\u001b[39m, \u001b[32m1.8753177966101695\u001b[39m),\n",
       "  \u001b[33mNERCount\u001b[39m(\u001b[32m\"Pixel\"\u001b[39m, \u001b[32m0.9929378531073445\u001b[39m),\n",
       "  \u001b[33mNERCount\u001b[39m(\u001b[32m\"New\"\u001b[39m, \u001b[32m0.7873015873015872\u001b[39m),\n",
       "  \u001b[33mNERCount\u001b[39m(\u001b[32m\"Pro\"\u001b[39m, \u001b[32m0.723340395480226\u001b[39m),\n",
       "  \u001b[33mNERCount\u001b[39m(\u001b[32m\"Androids\"\u001b[39m, \u001b[32m0.6002824858757062\u001b[39m),\n",
       "  \u001b[33mNERCount\u001b[39m(\u001b[32m\"I/O\"\u001b[39m, \u001b[32m0.5502824858757063\u001b[39m),\n",
       "  \u001b[33mNERCount\u001b[39m(\u001b[32m\"BinaryEye\"\u001b[39m, \u001b[32m0.5\u001b[39m),\n",
       "  \u001b[33mNERCount\u001b[39m(\u001b[32m\"Microsoft\"\u001b[39m, \u001b[32m0.43333333333333335\u001b[39m),\n",
       "  \u001b[33mNERCount\u001b[39m(\u001b[32m\"Display\"\u001b[39m, \u001b[32m0.41666666666666663\u001b[39m),\n",
       "  \u001b[33mNERCount\u001b[39m(\u001b[32m\"Apple\"\u001b[39m, \u001b[32m0.4096045197740113\u001b[39m),\n",
       "  \u001b[33mNERCount\u001b[39m(\u001b[32m\"RAM\"\u001b[39m, \u001b[32m0.3730579096045198\u001b[39m),\n",
       "  \u001b[33mNERCount\u001b[39m(\u001b[32m\"Samsung\"\u001b[39m, \u001b[32m0.3584297919250379\u001b[39m),\n",
       "  \u001b[33mNERCount\u001b[39m(\u001b[32m\"Citra\"\u001b[39m, \u001b[32m0.3333333333333333\u001b[39m),\n",
       "  \u001b[33mNERCount\u001b[39m(\u001b[32m\"LG\"\u001b[39m, \u001b[32m0.3333333333333333\u001b[39m),\n",
       "  \u001b[33mNERCount\u001b[39m(\u001b[32m\"Nintendo\"\u001b[39m, \u001b[32m0.3333333333333333\u001b[39m),\n",
       "  \u001b[33mNERCount\u001b[39m(\u001b[32m\"Privacy\"\u001b[39m, \u001b[32m0.3333333333333333\u001b[39m),\n",
       "  \u001b[33mNERCount\u001b[39m(\u001b[32m\"Duo\"\u001b[39m, \u001b[32m0.3333333333333333\u001b[39m),\n",
       "  \u001b[33mNERCount\u001b[39m(\u001b[32m\"Magisk\"\u001b[39m, \u001b[32m0.3333333333333333\u001b[39m),\n",
       "  \u001b[33mNERCount\u001b[39m(\u001b[32m\"Dex\"\u001b[39m, \u001b[32m0.3333333333333333\u001b[39m),\n",
       "  \u001b[33mNERCount\u001b[39m(\u001b[32m\"Keynote\"\u001b[39m, \u001b[32m0.3333333333333333\u001b[39m),\n",
       "  \u001b[33mNERCount\u001b[39m(\u001b[32m\"Photos\"\u001b[39m, \u001b[32m0.3333333333333333\u001b[39m),\n",
       "  \u001b[33mNERCount\u001b[39m(\u001b[32m\"Holcim\"\u001b[39m, \u001b[32m0.3333333333333333\u001b[39m),\n",
       "  \u001b[33mNERCount\u001b[39m(\u001b[32m\"Dashboard\"\u001b[39m, \u001b[32m0.3333333333333333\u001b[39m),\n",
       "  \u001b[33mNERCount\u001b[39m(\u001b[32m\"Velvet\"\u001b[39m, \u001b[32m0.3333333333333333\u001b[39m),\n",
       "  \u001b[33mNERCount\u001b[39m(\u001b[32m\"ANZ\"\u001b[39m, \u001b[32m0.3333333333333333\u001b[39m),\n",
       "  \u001b[33mNERCount\u001b[39m(\u001b[32m\"Surface\"\u001b[39m, \u001b[32m0.3333333333333333\u001b[39m),\n",
       "  \u001b[33mNERCount\u001b[39m(\u001b[32m\"Edge\"\u001b[39m, \u001b[32m0.3\u001b[39m),\n",
       "  \u001b[33mNERCount\u001b[39m(\u001b[32m\"Week\"\u001b[39m, \u001b[32m0.29166666666666663\u001b[39m),\n",
       "  \u001b[33mNERCount\u001b[39m(\u001b[32m\"One\"\u001b[39m, \u001b[32m0.25\u001b[39m),\n",
       "  \u001b[33mNERCount\u001b[39m(\u001b[32m\"Gboard\"\u001b[39m, \u001b[32m0.25\u001b[39m),\n",
       "  \u001b[33mNERCount\u001b[39m(\u001b[32m\"Gboards\"\u001b[39m, \u001b[32m0.25\u001b[39m),\n",
       "  \u001b[33mNERCount\u001b[39m(\u001b[32m\"Currently\"\u001b[39m, \u001b[32m0.25\u001b[39m),\n",
       "  \u001b[33mNERCount\u001b[39m(\u001b[32m\"Recovering\"\u001b[39m, \u001b[32m0.25\u001b[39m),\n",
       "  \u001b[33mNERCount\u001b[39m(\u001b[32m\"Phone\"\u001b[39m, \u001b[32m0.2222222222222222\u001b[39m),\n",
       "  \u001b[33mNERCount\u001b[39m(\u001b[32m\"Sunday\"\u001b[39m, \u001b[32m0.2222222222222222\u001b[39m),\n",
       "  \u001b[33mNERCount\u001b[39m(\u001b[32m\"EXCLUSIVE\"\u001b[39m, \u001b[32m0.2\u001b[39m),\n",
       "  \u001b[33mNERCount\u001b[39m(\u001b[32m\"OLED\"\u001b[39m, \u001b[32m0.19791666666666666\u001b[39m),\n",
       "..."
      ]
     },
     "execution_count": 170,
     "metadata": {},
     "output_type": "execute_result"
    }
   ],
   "source": [
    "val sortiaDo = model.sortNEs(resultJson)"
   ]
  },
  {
   "cell_type": "code",
   "execution_count": 171,
   "id": "84d51694-5064-41d0-89a7-5fcb9f3deb34",
   "metadata": {},
   "outputs": [
    {
     "data": {
      "text/plain": [
       "\u001b[36msortedStack\u001b[39m: \u001b[32mList\u001b[39m[\u001b[32mNERCount\u001b[39m] = \u001b[33mList\u001b[39m(\n",
       "  \u001b[33mNERCount\u001b[39m(\u001b[32m\"Using\"\u001b[39m, \u001b[32m1.0\u001b[39m),\n",
       "  \u001b[33mNERCount\u001b[39m(\u001b[32m\"Efficient\"\u001b[39m, \u001b[32m1.0\u001b[39m),\n",
       "  \u001b[33mNERCount\u001b[39m(\u001b[32m\"Determine\"\u001b[39m, \u001b[32m1.0\u001b[39m),\n",
       "  \u001b[33mNERCount\u001b[39m(\u001b[32m\"Add\"\u001b[39m, \u001b[32m1.0\u001b[39m),\n",
       "  \u001b[33mNERCount\u001b[39m(\u001b[32m\"Route\"\u001b[39m, \u001b[32m1.0\u001b[39m),\n",
       "  \u001b[33mNERCount\u001b[39m(\u001b[32m\"Flask\"\u001b[39m, \u001b[32m1.0\u001b[39m),\n",
       "  \u001b[33mNERCount\u001b[39m(\u001b[32m\"Mathrandom\"\u001b[39m, \u001b[32m1.0\u001b[39m),\n",
       "  \u001b[33mNERCount\u001b[39m(\u001b[32m\"Order\"\u001b[39m, \u001b[32m1.0\u001b[39m),\n",
       "  \u001b[33mNERCount\u001b[39m(\u001b[32m\"Type\"\u001b[39m, \u001b[32m0.6666666666666666\u001b[39m),\n",
       "  \u001b[33mNERCount\u001b[39m(\u001b[32m\"Request\"\u001b[39m, \u001b[32m0.5\u001b[39m),\n",
       "  \u001b[33mNERCount\u001b[39m(\u001b[32m\"Format\"\u001b[39m, \u001b[32m0.5\u001b[39m),\n",
       "  \u001b[33mNERCount\u001b[39m(\u001b[32m\"SSH2\"\u001b[39m, \u001b[32m0.5\u001b[39m),\n",
       "  \u001b[33mNERCount\u001b[39m(\u001b[32m\"JSON\"\u001b[39m, \u001b[32m0.5\u001b[39m),\n",
       "  \u001b[33mNERCount\u001b[39m(\u001b[32m\"Change\"\u001b[39m, \u001b[32m0.5\u001b[39m),\n",
       "  \u001b[33mNERCount\u001b[39m(\u001b[32m\"Due\"\u001b[39m, \u001b[32m0.5\u001b[39m),\n",
       "  \u001b[33mNERCount\u001b[39m(\u001b[32m\"Nodejs\"\u001b[39m, \u001b[32m0.5\u001b[39m),\n",
       "  \u001b[33mNERCount\u001b[39m(\u001b[32m\"TIME_WAIT\"\u001b[39m, \u001b[32m0.5\u001b[39m),\n",
       "  \u001b[33mNERCount\u001b[39m(\u001b[32m\"Body\"\u001b[39m, \u001b[32m0.5\u001b[39m),\n",
       "  \u001b[33mNERCount\u001b[39m(\u001b[32m\"PyCharm\"\u001b[39m, \u001b[32m0.5\u001b[39m),\n",
       "  \u001b[33mNERCount\u001b[39m(\u001b[32m\"PyKinectv2\"\u001b[39m, \u001b[32m0.5\u001b[39m),\n",
       "  \u001b[33mNERCount\u001b[39m(\u001b[32m\"Scrapy\"\u001b[39m, \u001b[32m0.5\u001b[39m),\n",
       "  \u001b[33mNERCount\u001b[39m(\u001b[32m\"Unicode\"\u001b[39m, \u001b[32m0.4\u001b[39m),\n",
       "  \u001b[33mNERCount\u001b[39m(\u001b[32m\"WebGL\"\u001b[39m, \u001b[32m0.3333333333333333\u001b[39m),\n",
       "  \u001b[33mNERCount\u001b[39m(\u001b[32m\"Software\"\u001b[39m, \u001b[32m0.3333333333333333\u001b[39m),\n",
       "  \u001b[33mNERCount\u001b[39m(\u001b[32m\"TCP\"\u001b[39m, \u001b[32m0.3333333333333333\u001b[39m),\n",
       "  \u001b[33mNERCount\u001b[39m(\u001b[32m\"CSV\"\u001b[39m, \u001b[32m0.3333333333333333\u001b[39m),\n",
       "  \u001b[33mNERCount\u001b[39m(\u001b[32m\"Python\"\u001b[39m, \u001b[32m0.3333333333333333\u001b[39m),\n",
       "  \u001b[33mNERCount\u001b[39m(\u001b[32m\"Adding\"\u001b[39m, \u001b[32m0.3333333333333333\u001b[39m),\n",
       "  \u001b[33mNERCount\u001b[39m(\u001b[32m\"Client\"\u001b[39m, \u001b[32m0.3333333333333333\u001b[39m),\n",
       "  \u001b[33mNERCount\u001b[39m(\u001b[32m\"Excel\"\u001b[39m, \u001b[32m0.3333333333333333\u001b[39m),\n",
       "  \u001b[33mNERCount\u001b[39m(\u001b[32m\"Socket\"\u001b[39m, \u001b[32m0.3333333333333333\u001b[39m),\n",
       "  \u001b[33mNERCount\u001b[39m(\u001b[32m\"I&#39d\"\u001b[39m, \u001b[32m0.3333333333333333\u001b[39m),\n",
       "  \u001b[33mNERCount\u001b[39m(\u001b[32m\"Storing\"\u001b[39m, \u001b[32m0.3333333333333333\u001b[39m),\n",
       "  \u001b[33mNERCount\u001b[39m(\u001b[32m\"Unity\"\u001b[39m, \u001b[32m0.3333333333333333\u001b[39m),\n",
       "  \u001b[33mNERCount\u001b[39m(\u001b[32m\"Festival\"\u001b[39m, \u001b[32m0.3333333333333333\u001b[39m),\n",
       "  \u001b[33mNERCount\u001b[39m(\u001b[32m\"MZ\"\u001b[39m, \u001b[32m0.25\u001b[39m),\n",
       "  \u001b[33mNERCount\u001b[39m(\u001b[32m\"Problem\"\u001b[39m, \u001b[32m0.25\u001b[39m),\n",
       "  \u001b[33mNERCount\u001b[39m(\u001b[32m\"HPC\"\u001b[39m, \u001b[32m0.25\u001b[39m),\n",
       "..."
      ]
     },
     "execution_count": 171,
     "metadata": {},
     "output_type": "execute_result"
    }
   ],
   "source": [
    "val sortedStack = model.sortNEs(resultStack)"
   ]
  },
  {
   "cell_type": "markdown",
   "id": "18396777-9176-4c0a-984d-a976e189b931",
   "metadata": {
    "id": "located-cookbook",
    "tags": []
   },
   "source": [
    "## 4. Modelo \"FeedService\""
   ]
  },
  {
   "cell_type": "code",
   "execution_count": 202,
   "id": "cf2380dd-6f6e-4716-90f3-8fc213ecf723",
   "metadata": {},
   "outputs": [
    {
     "data": {
      "text/plain": [
       "defined \u001b[32mclass\u001b[39m \u001b[36mFeedServices\u001b[39m"
      ]
     },
     "execution_count": 202,
     "metadata": {},
     "output_type": "execute_result"
    }
   ],
   "source": [
    "class FeedServices {\n",
    "    case class Subscription(url: String, parser: DataSource)\n",
    "    //variable donde se guardan las suscripciones\n",
    "    var subsList: Seq[Subscription] = Seq()\n",
    "    \n",
    "    //funcion para agregar subscripciones a la lista \n",
    "    def subscribe[T <: DataSource](template: String, urlParams: Seq[String] = Seq(), parser: T) = {\n",
    "        val urls: Seq[String] = (if (urlParams.isEmpty) { Seq(template) } else {\n",
    "            urlParams.map { param => template.format(param) }\n",
    "        //filtramos para no agregar de nuevo una url que ya estaba en la lista:\n",
    "        }).filter { url =>\n",
    "            !(subsList.map(_.url).contains(url))\n",
    "        }        \n",
    "        \n",
    "        val subscriptions: Seq[Subscription] = urls.map {url =>\n",
    "            Subscription(url, parser)\n",
    "        }\n",
    "        \n",
    "        subsList = subsList ++ subscriptions\n",
    "    }\n",
    "    \n",
    "    //busca todas las entidades en las subscripciones\n",
    "    //y las añade a una misma lista\n",
    "    def parseAll(): Seq[String] = {    \n",
    "        val parsedList = subsList.map { sub =>\n",
    "            sub.parser.parseResponse(sub.url)\n",
    "        }\n",
    "        parsedList.flatten\n",
    "    }\n",
    "}"
   ]
  },
  {
   "cell_type": "code",
   "execution_count": 232,
   "id": "ddbcef75-1903-4786-8ed9-19b3ceafb724",
   "metadata": {},
   "outputs": [
    {
     "data": {
      "text/plain": [
       "\u001b[36mservice\u001b[39m: \u001b[32mFeedServices\u001b[39m = ammonite.$sess.cmd201$Helper$FeedServices@7ffea8f6"
      ]
     },
     "execution_count": 232,
     "metadata": {},
     "output_type": "execute_result"
    }
   ],
   "source": [
    "val service = new FeedServices"
   ]
  },
  {
   "cell_type": "code",
   "execution_count": 233,
   "id": "37dddbb4-49b0-4ee9-af3d-032118d36b65",
   "metadata": {},
   "outputs": [],
   "source": [
    "//Probamos omitir el parámetro opcional urlParam\n",
    "service.subscribe(template = \"https://www.chicagotribune.com/arcio/rss/category/business/?query=display_date:[now-2d+TO+now]&sort=display_date:desc\", urlParams = Seq(), parser = new RssSource())\n",
    "//Probamos con parámetro\n",
    "service.subscribe(template = \"https://rss.nytimes.com/services/xml/rss/nyt/%s.xml\", urlParams = Seq(\"Business\", \"Technology\"), parser = new RssSource())\n",
    "//service.subscribe(template = \"https://www.reddit.com/r/%s/hot/.json?count=100\", urlParams = Seq(\"Marketing\", \"Sales\", \"Entrepreneur\", \"Startups\"), parser = new JsonSource())\n",
    "//service.subscribe(template = \"https://api.stackexchange.com/2.2/questions?order=desc&sort=activity&site=%s\", urlParams = Seq(\"stackoverflow\", \"serverfault\"), parser = new StackQSource())"
   ]
  },
  {
   "cell_type": "code",
   "execution_count": 234,
   "id": "536afcd7-ffc0-449f-aaa6-4a32c76bdff3",
   "metadata": {},
   "outputs": [
    {
     "name": "stdout",
     "output_type": "stream",
     "text": [
      "List(Subscription(https://www.chicagotribune.com/arcio/rss/category/business/?query=display_date:[now-2d+TO+now]&sort=display_date:desc,ammonite.$sess.cmd9$Helper$RssSource@467ef14b), Subscription(https://rss.nytimes.com/services/xml/rss/nyt/Business.xml,ammonite.$sess.cmd9$Helper$RssSource@352dd2db), Subscription(https://rss.nytimes.com/services/xml/rss/nyt/Technology.xml,ammonite.$sess.cmd9$Helper$RssSource@352dd2db))\n"
     ]
    }
   ],
   "source": [
    "println(service.subsList)"
   ]
  },
  {
   "cell_type": "code",
   "execution_count": 235,
   "id": "9c97f41e-db5b-4f97-ab21-e7545bfbfda3",
   "metadata": {
    "tags": []
   },
   "outputs": [
    {
     "data": {
      "text/plain": [
       "\u001b[36mtexts\u001b[39m: \u001b[32mSeq\u001b[39m[\u001b[32mString\u001b[39m] = \u001b[33mList\u001b[39m(\n",
       "  \u001b[32m\"\\u2018Car guy\\u2019 Joe Biden took a spin in the new electric-powered Ford F-150 Lightning during a trip to Michigan to sell his $2T infrastructure plan Joe Biden took a spin in the new Ford F-150 Lightning truck during a visit to a Ford safety testing center Tuesday as part of a trip to Michigan. \"\u001b[39m,\n",
       "  \u001b[32m\"COVID-19 has left scars on the job market. Here\\u2019s why the damage may be permanent. At least 30% of the U.S. jobs lost to the pandemic aren\\u2019t expected to come back \\u2014 a sizable proportion of them at employers that require face-to-face contact with consumers: Hotels, restaurants, retailers, entertainment venues. \"\u001b[39m,\n",
       "  \u001b[32m\"In Chicago and across US, downtown stores, restaurants await customers\\u2019 return \\u201cI definitely think the Loop will return back to normal at some point,\\u201d says Teresa Ging of Sugar Bliss Bakery, although she doesn\\u2019t expect that to happen before 2022. \"\u001b[39m,\n",
       "  \u001b[32m\"Boeing, FAA grilled by lawmakers over problems with 737 Max, 787 Dreamliner Two key members of Congress are seeking records from Boeing and the Federal Aviation Administration about production issues affecting two of the company\\u2019s most popular airliners. \"\u001b[39m,\n",
       "  \u001b[32m\"Bank of America to raise its minimum wage to $25 an hour by 2025 Bank of America raised its minimum wage to $15 an hour in 2017, to $17 an hour in 2019, and to $20 an hour last year. Now it is targeting $25 an hour by 2025. \"\u001b[39m,\n",
       "  \u001b[32m\"JPMorgan Chase names 2 women to run bank\\u2019s biggest division, possible successors to CEO Jamie Dimon JPMorgan Chase will promote two women, former CFO Marianne Lake and current CFO Jennifer Piepszak, to co-run the bank\\u2019s consumer finance division, potentially signaling that a woman may eventually run the nation\\u2019s biggest bank. \"\u001b[39m,\n",
       "  \u001b[32m\"Macy\\u2019s posts a surprising profit during pandemic. \\u2018Clearly our customer is ready to get on with life,\\u2019 says CEO. Macy's said its sales were fueled by government stimulus checks and and the massive rollout of vaccines that have emboldened Americans to head outdoors again. \"\u001b[39m,\n",
       "  \u001b[32m\"\\u2018The opportunity to take a step back\\u2019: Pandemic benefits, stimulus checks give some time to rethink careers A wild card in the push to return to post-pandemic life: Many workers don\\u2019t want to go back to the jobs they once had. \"\u001b[39m,\n",
       "  \u001b[32m\"Navy Pier announces full reopening Thursday, plus summer programs and fireworks   Navy Pier announced plans for a full reopening this summer, with indoor spaces, retail stores and free summer programs and the goal for a full reopening Memorial Day weekend. \"\u001b[39m,\n",
       "  \u001b[32m\"\\u2018Customers clearly want to get out and shop.\\u2019 And Walmart is ready \u001b[39m..."
      ]
     },
     "execution_count": 235,
     "metadata": {},
     "output_type": "execute_result"
    }
   ],
   "source": [
    "val texts = service.parseAll()"
   ]
  },
  {
   "cell_type": "code",
   "execution_count": 236,
   "id": "b45d22ac-95ed-43c3-8e65-d107a818af57",
   "metadata": {},
   "outputs": [
    {
     "data": {
      "text/plain": [
       "\u001b[36mmodel\u001b[39m: \u001b[32mNERModel\u001b[39m = ammonite.$sess.cmd160$Helper$NERModel@406ef726"
      ]
     },
     "execution_count": 236,
     "metadata": {},
     "output_type": "execute_result"
    }
   ],
   "source": [
    "val model = new NERModel()"
   ]
  },
  {
   "cell_type": "code",
   "execution_count": 237,
   "id": "965ffa23-7e9d-4a3f-972f-58f40a9de4e6",
   "metadata": {
    "tags": []
   },
   "outputs": [
    {
     "data": {
      "text/plain": [
       "\u001b[36mres\u001b[39m: \u001b[32mSeq\u001b[39m[\u001b[32mSeq\u001b[39m[\u001b[32mString\u001b[39m]] = \u001b[33mList\u001b[39m(\n",
       "  \u001b[33mArrayBuffer\u001b[39m(\n",
       "    \u001b[32m\"Joe\"\u001b[39m,\n",
       "    \u001b[32m\"Biden\"\u001b[39m,\n",
       "    \u001b[32m\"Ford\"\u001b[39m,\n",
       "    \u001b[32m\"F150\"\u001b[39m,\n",
       "    \u001b[32m\"Lightning\"\u001b[39m,\n",
       "    \u001b[32m\"Michigan\"\u001b[39m,\n",
       "    \u001b[32m\"Joe\"\u001b[39m,\n",
       "    \u001b[32m\"Biden\"\u001b[39m,\n",
       "    \u001b[32m\"Ford\"\u001b[39m,\n",
       "    \u001b[32m\"F150\"\u001b[39m,\n",
       "    \u001b[32m\"Lightning\"\u001b[39m,\n",
       "    \u001b[32m\"Ford\"\u001b[39m,\n",
       "    \u001b[32m\"Tuesday\"\u001b[39m,\n",
       "    \u001b[32m\"Michigan\"\u001b[39m\n",
       "  ),\n",
       "  \u001b[33mArrayBuffer\u001b[39m(\u001b[32m\"COVID19\"\u001b[39m, \u001b[32m\"Heres\"\u001b[39m, \u001b[32m\"US\"\u001b[39m, \u001b[32m\"Hotels\"\u001b[39m),\n",
       "  \u001b[33mArrayBuffer\u001b[39m(\n",
       "    \u001b[32m\"Chicago\"\u001b[39m,\n",
       "    \u001b[32m\"US\"\u001b[39m,\n",
       "    \u001b[32m\"Loop\"\u001b[39m,\n",
       "    \u001b[32m\"Teresa\"\u001b[39m,\n",
       "    \u001b[32m\"Ging\"\u001b[39m,\n",
       "    \u001b[32m\"Sugar\"\u001b[39m,\n",
       "    \u001b[32m\"Bliss\"\u001b[39m,\n",
       "    \u001b[32m\"Bakery\"\u001b[39m\n",
       "  ),\n",
       "  \u001b[33mArrayBuffer\u001b[39m(\n",
       "    \u001b[32m\"Boeing\"\u001b[39m,\n",
       "    \u001b[32m\"FAA\"\u001b[39m,\n",
       "    \u001b[32m\"Max\"\u001b[39m,\n",
       "    \u001b[32m\"Dreamliner\"\u001b[39m,\n",
       "    \u001b[32m\"Two\"\u001b[39m,\n",
       "    \u001b[32m\"Congress\"\u001b[39m,\n",
       "    \u001b[32m\"Boeing\"\u001b[39m,\n",
       "    \u001b[32m\"Federal\"\u001b[39m,\n",
       "    \u001b[32m\"Aviation\"\u001b[39m,\n",
       "    \u001b[32m\"Administration\"\u001b[39m\n",
       "..."
      ]
     },
     "execution_count": 237,
     "metadata": {},
     "output_type": "execute_result"
    }
   ],
   "source": [
    "val res = model.getNEs(texts)"
   ]
  },
  {
   "cell_type": "code",
   "execution_count": 238,
   "id": "e9c53fa5-0bcb-428f-b020-c0f42743cad9",
   "metadata": {},
   "outputs": [
    {
     "data": {
      "text/plain": [
       "\u001b[36mfinalRes\u001b[39m: \u001b[32mList\u001b[39m[\u001b[32mNERCount\u001b[39m] = \u001b[33mList\u001b[39m(\n",
       "  \u001b[33mNERCount\u001b[39m(\u001b[32m\"China\"\u001b[39m, \u001b[32m1.222843822843823\u001b[39m),\n",
       "  \u001b[33mNERCount\u001b[39m(\u001b[32m\"Walmart\"\u001b[39m, \u001b[32m1.2222222222222223\u001b[39m),\n",
       "  \u001b[33mNERCount\u001b[39m(\u001b[32m\"US\"\u001b[39m, \u001b[32m1.2191770647653002\u001b[39m),\n",
       "  \u001b[33mNERCount\u001b[39m(\u001b[32m\"Biden\"\u001b[39m, \u001b[32m1.1350140056022409\u001b[39m),\n",
       "  \u001b[33mNERCount\u001b[39m(\u001b[32m\"WarnerMedia\"\u001b[39m, \u001b[32m1.0654382167540062\u001b[39m),\n",
       "  \u001b[33mNERCount\u001b[39m(\u001b[32m\"AT&T\"\u001b[39m, \u001b[32m1.0071770334928232\u001b[39m),\n",
       "  \u001b[33mNERCount\u001b[39m(\u001b[32m\"Coinbase\"\u001b[39m, \u001b[32m1.0\u001b[39m),\n",
       "  \u001b[33mNERCount\u001b[39m(\u001b[32m\"Buying\"\u001b[39m, \u001b[32m1.0\u001b[39m),\n",
       "  \u001b[33mNERCount\u001b[39m(\u001b[32m\"Apple\"\u001b[39m, \u001b[32m0.9803030303030303\u001b[39m),\n",
       "  \u001b[33mNERCount\u001b[39m(\u001b[32m\"Discovery\"\u001b[39m, \u001b[32m0.9667710944026733\u001b[39m),\n",
       "  \u001b[33mNERCount\u001b[39m(\u001b[32m\"President\"\u001b[39m, \u001b[32m0.9598039215686275\u001b[39m),\n",
       "  \u001b[33mNERCount\u001b[39m(\u001b[32m\"Pipeline\"\u001b[39m, \u001b[32m0.804040404040404\u001b[39m),\n",
       "  \u001b[33mNERCount\u001b[39m(\u001b[32m\"Colonial\"\u001b[39m, \u001b[32m0.804040404040404\u001b[39m),\n",
       "  \u001b[33mNERCount\u001b[39m(\u001b[32m\"Amazon\"\u001b[39m, \u001b[32m0.7816239316239315\u001b[39m),\n",
       "  \u001b[33mNERCount\u001b[39m(\u001b[32m\"Federal\"\u001b[39m, \u001b[32m0.7671568627450981\u001b[39m),\n",
       "  \u001b[33mNERCount\u001b[39m(\u001b[32m\"Chicago\"\u001b[39m, \u001b[32m0.75503663003663\u001b[39m),\n",
       "  \u001b[33mNERCount\u001b[39m(\u001b[32m\"Heres\"\u001b[39m, \u001b[32m0.7436507936507937\u001b[39m),\n",
       "  \u001b[33mNERCount\u001b[39m(\u001b[32m\"Monday\"\u001b[39m, \u001b[32m0.6678571428571427\u001b[39m),\n",
       "  \u001b[33mNERCount\u001b[39m(\u001b[32m\"Macys\"\u001b[39m, \u001b[32m0.6666666666666666\u001b[39m),\n",
       "  \u001b[33mNERCount\u001b[39m(\u001b[32m\"CBS\"\u001b[39m, \u001b[32m0.6666666666666666\u001b[39m),\n",
       "  \u001b[33mNERCount\u001b[39m(\u001b[32m\"COVID19\"\u001b[39m, \u001b[32m0.6428571428571428\u001b[39m),\n",
       "  \u001b[33mNERCount\u001b[39m(\u001b[32m\"Chinese\"\u001b[39m, \u001b[32m0.6350649350649351\u001b[39m),\n",
       "  \u001b[33mNERCount\u001b[39m(\u001b[32m\"American\"\u001b[39m, \u001b[32m0.6291666666666667\u001b[39m),\n",
       "  \u001b[33mNERCount\u001b[39m(\u001b[32m\"Dogecoin\"\u001b[39m, \u001b[32m0.6190476190476191\u001b[39m),\n",
       "  \u001b[33mNERCount\u001b[39m(\u001b[32m\"Japans\"\u001b[39m, \u001b[32m0.6\u001b[39m),\n",
       "  \u001b[33mNERCount\u001b[39m(\u001b[32m\"Bidens\"\u001b[39m, \u001b[32m0.5843137254901961\u001b[39m),\n",
       "  \u001b[33mNERCount\u001b[39m(\u001b[32m\"Side\"\u001b[39m, \u001b[32m0.5746753246753247\u001b[39m),\n",
       "  \u001b[33mNERCount\u001b[39m(\u001b[32m\"Bank\"\u001b[39m, \u001b[32m0.5714285714285714\u001b[39m),\n",
       "  \u001b[33mNERCount\u001b[39m(\u001b[32m\"Apples\"\u001b[39m, \u001b[32m0.5666666666666667\u001b[39m),\n",
       "  \u001b[33mNERCount\u001b[39m(\u001b[32m\"America\"\u001b[39m, \u001b[32m0.5666666666666667\u001b[39m),\n",
       "  \u001b[33mNERCount\u001b[39m(\u001b[32m\"Pandemic\"\u001b[39m, \u001b[32m0.5588235294117647\u001b[39m),\n",
       "  \u001b[33mNERCount\u001b[39m(\u001b[32m\"Media\"\u001b[39m, \u001b[32m0.5516066235106483\u001b[39m),\n",
       "  \u001b[33mNERCount\u001b[39m(\u001b[32m\"Airline\"\u001b[39m, \u001b[32m0.5\u001b[39m),\n",
       "  \u001b[33mNERCount\u001b[39m(\u001b[32m\"Many\"\u001b[39m, \u001b[32m0.5\u001b[39m),\n",
       "  \u001b[33mNERCount\u001b[39m(\u001b[32m\"Catch\"\u001b[39m, \u001b[32m0.5\u001b[39m),\n",
       "  \u001b[33mNERCount\u001b[39m(\u001b[32m\"TV\"\u001b[39m, \u001b[32m0.5\u001b[39m),\n",
       "  \u001b[33mNERCount\u001b[39m(\u001b[32m\"New\"\u001b[39m, \u001b[32m0.490018315018315\u001b[39m),\n",
       "  \u001b[33mNERCount\u001b[39m(\u001b[32m\"CEO\"\u001b[39m, \u001b[32m0.48168498168498164\u001b[39m),\n",
       "..."
      ]
     },
     "execution_count": 238,
     "metadata": {},
     "output_type": "execute_result"
    }
   ],
   "source": [
    "val finalRes = model.sortNEs(res)"
   ]
  },
  {
   "cell_type": "code",
   "execution_count": 201,
   "id": "eaf7ee4f-93b1-440e-bd94-d1c452fd1c7a",
   "metadata": {},
   "outputs": [
    {
     "name": "stdout",
     "output_type": "stream",
     "text": [
      "List(NERCount(Chicago,3.454145299145299), NERCount(County,2.052802181478652), NERCount(Tuesday,1.908567821067821), NERCount(US,1.80413377472201), NERCount(El,1.6225579975579976), NERCount(New,1.5419413919413918), NERCount(Biden,1.4540616246498597), NERCount(Illinois,1.3333333333333333), NERCount(China,1.222843822843823), NERCount(WarnerMedia,1.0654382167540062), NERCount(Lollapalooza,1.0602564102564103), NERCount(Park,1.0444555444555443), NERCount(Es,1.0), NERCount(Coinbase,1.0), NERCount(Buying,1.0), NERCount(Apple,0.9803030303030303), NERCount(Wednesday,0.892156862745098), NERCount(Monday,0.880079365079365), NERCount(Federal,0.8671568627450981), NERCount(President,0.8526610644257704), NERCount(AT&T,0.8405103668261564), NERCount(Pipeline,0.804040404040404), NERCount(Colonial,0.804040404040404), NERCount(Discovery,0.8001044277360067), NERCount(Amazon,0.7816239316239315), NERCount(Washington,0.7598039215686274), NERCount(Trump,0.7556489262371615), NERCount(Police,0.7529151404151404), NERCount(Corrections,0.6666666666666666), NERCount(COVID19,0.6595238095238095), NERCount(JPMorgan,0.6428571428571428), NERCount(Chinese,0.6350649350649351), NERCount(España,0.6333333333333333), NERCount(DuPage,0.625), NERCount(Dogecoin,0.6190476190476191), NERCount(Heres,0.6150793650793651), NERCount(Republicans,0.6023310023310022), NERCount(Japans,0.6), NERCount(Gaza,0.5945378151260504), NERCount(York,0.5944444444444446), NERCount(Americans,0.5944444444444443), NERCount(La,0.5854347826086956), NERCount(Southland,0.5833333333333333), NERCount(Apples,0.5666666666666667), NERCount(Side,0.5568181818181819), NERCount(Hinsdale,0.5555555555555556), NERCount(Column,0.5520202020202021), NERCount(Media,0.5516066235106483), NERCount(Aurora,0.5079365079365079), NERCount(Lincolnshire,0.5079365079365079), NERCount(En,0.5), NERCount(Pacientes,0.5), NERCount(Tiroteo,0.5), NERCount(Catch,0.5), NERCount(Two,0.4888888888888888), NERCount(EEUU,0.47619047619047616), NERCount(Florida,0.44365079365079363), NERCount(River,0.43218623481781376), NERCount(Old,0.4318181818181819), NERCount(Las,0.42777777777777776), NERCount(High,0.42063492063492064), NERCount(Cook,0.40737734487734484), NERCount(Township,0.4039682539682539), NERCount(Million,0.40049019607843134), NERCount(Sunday,0.4004329004329004), NERCount(Inside,0.4), NERCount(Supreme,0.4), NERCount(Speak,0.4), NERCount(Derek,0.4), NERCount(Court,0.4), NERCount(Tampa,0.4), NERCount(Reserve,0.39999999999999997), NERCount(Cruz,0.39999999999999997), NERCount(Board,0.3968253968253968), NERCount(CDC,0.39285714285714285), NERCount(Chase,0.39285714285714285), NERCount(Hall,0.38803418803418804), NERCount(Naperville,0.3857142857142857), NERCount(Mayor,0.3852564102564103), NERCount(Marruecos,0.3833333333333333), NERCount(United,0.3784090909090909), NERCount(Jeff,0.3769230769230769), NERCount(Brothers,0.375), NERCount(Goldbelly,0.375), NERCount(Following,0.3643578643578643), NERCount(Big,0.3571428571428571), NERCount(Texas,0.3547619047619048), NERCount(City,0.3531135531135531), NERCount(District,0.3472222222222222), NERCount(Eric,0.3448773448773449), NERCount(Senate,0.3356643356643357), NERCount(Bidens,0.33431372549019606), NERCount(Workers,0.3339932126696833), NERCount(Oatly,0.3333333333333333), NERCount(Pachuca,0.3333333333333333), NERCount(Gov,0.3333333333333333), NERCount(Adoptable,0.3333333333333333), NERCount(Pets,0.3333333333333333), NERCount(Azul,0.3333333333333333), NERCount(Whos,0.3333333333333333), NERCount(James,0.3333333333333333), NERCount(Editorial,0.3333333333333333), NERCount(F15,0.3333333333333333), NERCount(Benzema,0.3333333333333333), NERCount(Bitcoin,0.3333333333333333), NERCount(Oswego,0.3333333333333333), NERCount(Dont,0.3333333333333333), NERCount(Cubs,0.3333333333333333), NERCount(Portillos,0.3333333333333333), NERCount(Laporta,0.3333333333333333), NERCount(Gobierno,0.3333333333333333), NERCount(Deal,0.3323934837092732), NERCount(Covid,0.3316239316239316), NERCount(FL,0.32698412698412704), NERCount(March,0.32516968325791856), NERCount(Grant,0.325), NERCount(Bank,0.3214285714285714), NERCount(International,0.3206349206349206), NERCount(Saturday,0.32048872180451127), NERCount(Hackers,0.31666666666666665), NERCount(Congress,0.31666666666666665), NERCount(Israel,0.3142857142857143), NERCount(Day,0.30917874396135264), NERCount(Department,0.30396825396825394), NERCount(Times,0.30000000000000004), NERCount(Elgin,0.3), NERCount(Gaudio,0.3), NERCount(Hills,0.29914529914529914), NERCount(AT&Ts,0.2936507936507936), NERCount(Real,0.29166666666666663), NERCount(Anthony,0.29166666666666663), NERCount(South,0.28888888888888886), NERCount(Woody,0.2857142857142857), NERCount(Army,0.2857142857142857), NERCount(Village,0.2857142857142857), NERCount(Barrymore,0.2857142857142857), NERCount(Hobbs,0.2857142857142857), NERCount(Elmhurst,0.2857142857142857), NERCount(Aug,0.2857142857142857), NERCount(Alfresco,0.2857142857142857), NERCount(Contessoto,0.2857142857142857), NERCount(Eldridge,0.2857142857142857), NERCount(Building,0.2857142857142857), NERCount(States,0.2825757575757576), NERCount(Problems,0.28181818181818186), NERCount(Ford,0.28095238095238095), NERCount(Central,0.27894327894327897), NERCount(Schools,0.2777777777777778), NERCount(Los,0.27692307692307694), NERCount(Bezos,0.27692307692307694), NERCount(Hammond,0.26900584795321636), NERCount(Nunes,0.26666666666666666), NERCount(Hard,0.26666666666666666), NERCount(Kilar,0.26515151515151514), NERCount(David,0.2602564102564103), NERCount(Fox,0.25882352941176473), NERCount(Twitter,0.25882352941176473), NERCount(America,0.25757575757575757), NERCount(Zaslav,0.25476190476190474), NERCount(School,0.25396825396825395), NERCount(Jupiter,0.25396825396825395), NERCount(Lara,0.25396825396825395), NERCount(Virus,0.25384615384615383), NERCount(One,0.25), NERCount(Niles,0.25), NERCount(Tower,0.25), NERCount(Nationals,0.25), NERCount(Israels,0.25), NERCount(Homewood,0.25), NERCount(Rizzo,0.25), NERCount(Fountain,0.25), NERCount(East,0.25), NERCount(Force,0.25), NERCount(Complaint,0.25), NERCount(Federer,0.25), NERCount(Georgia,0.25), NERCount(Teslas,0.25), NERCount(Libertadores,0.25), NERCount(Hustles,0.25), NERCount(Andújar,0.25), NERCount(Dos,0.25), NERCount(Llegan,0.25), NERCount(Space,0.25), NERCount(Strip,0.25), NERCount(Monmouth,0.25), NERCount(Associated,0.25), NERCount(Seattle,0.25), NERCount(Storm,0.25), NERCount(Hotels,0.25), NERCount(Recent,0.25), NERCount(Brooks,0.25), NERCount(Children,0.25), NERCount(Pablo,0.25), NERCount(Leaning,0.25), NERCount(Crime,0.25), NERCount(Buckingham,0.25), NERCount(Press,0.25), NERCount(Says,0.24685771744595275), NERCount(Prices,0.24444444444444444), NERCount(Pacific,0.24358974358974358), NERCount(West,0.24358974358974358), NERCount(Musk,0.2426470588235294), NERCount(Elon,0.2426470588235294), NERCount(Rural,0.23529411764705882), NERCount(Part,0.23376623376623376), NERCount(Ransom,0.23333333333333334), NERCount(Madrid,0.23333333333333334), NERCount(Gates,0.23076923076923078), NERCount(Israeli,0.23025210084033615), NERCount(Find,0.22875816993464054), NERCount(Giuliani,0.22549019607843135), NERCount(University,0.22527472527472528), NERCount(Beijings,0.22527472527472528), NERCount(Lightfoot,0.225), NERCount(Jason,0.22424242424242424), NERCount(Walmart,0.2222222222222222), NERCount(Pillar,0.2222222222222222), NERCount(Blotter,0.2222222222222222), NERCount(Hollywood,0.2222222222222222), NERCount(Vernon,0.2222222222222222), NERCount(MGM,0.2222222222222222), NERCount(Bond,0.2222222222222222), NERCount(Business,0.21929824561403508), NERCount(Southeast,0.2159090909090909), NERCount(Donald,0.21437908496732028), NERCount(Benjamin,0.21428571428571427), NERCount(Netanyahu,0.21428571428571427), NERCount(Joe,0.21428571428571427), NERCount(Tech,0.21428571428571427), NERCount(Calvin,0.2111111111111111), NERCount(VIDEO,0.2111111111111111), NERCount(Devin,0.21025641025641023), NERCount(Grand,0.21025641025641023), NERCount(Return,0.20833333333333331), NERCount(Shows,0.20202020202020202), NERCount(Hack,0.20202020202020202), NERCount(OnlyFans,0.2), NERCount(Investigation,0.2), NERCount(Porn,0.2), NERCount(Rock,0.2), NERCount(Trumpfortified,0.2), NERCount(Add,0.2), NERCount(Jeters,0.2), NERCount(Isnt,0.2), NERCount(Zucker,0.2), NERCount(Great,0.2), NERCount(Obsessions,0.2), NERCount(Republicanrun,0.2), NERCount(Oklahoma,0.2), NERCount(Naval,0.2), NERCount(Dems,0.2), NERCount(Kane,0.2), NERCount(Newly,0.2), NERCount(Premios,0.2), NERCount(Lakes,0.2), NERCount(Garfield,0.2), NERCount(Famer,0.2), NERCount(Motors,0.2), NERCount(Indiana,0.2), NERCount(Trafford,0.2), NERCount(Australia,0.2), NERCount(Ya,0.2), NERCount(Compromises,0.2), NERCount(Trot,0.2), NERCount(Boeing,0.2), NERCount(Louisville,0.2), NERCount(Webby,0.2), NERCount(Dino,0.2), NERCount(Station,0.2), NERCount(Jeter,0.2), NERCount(Lordstown,0.2), NERCount(Despite,0.2), NERCount(Face,0.2), NERCount(Cybersecurity,0.19444444444444442), NERCount(Sales,0.19444444444444442), NERCount(Friday,0.19444444444444442), NERCount(House,0.19444444444444442), NERCount(Amazons,0.18803418803418803), NERCount(Whitney,0.1875), NERCount(Internet,0.1843137254901961), NERCount(Commission,0.18382352941176472), NERCount(Tesla,0.18382352941176472), NERCount(Would,0.18382352941176472), NERCount(Coast,0.18333333333333335), NERCount(Firm,0.18253968253968253), NERCount(Beijing,0.18181818181818182), NERCount(McKinley,0.18181818181818182), NERCount(Good,0.18181818181818182), NERCount(Jan,0.18181818181818182), NERCount(Confronts,0.18181818181818182), NERCount(Bell,0.18181818181818182), NERCount(II”,0.18181818181818182), NERCount(Stays,0.18181818181818182), NERCount(Authorities,0.18181818181818182), NERCount(Quiet,0.18181818181818182), NERCount(Graham,0.18181818181818182), NERCount(Place,0.18181818181818182), NERCount(Detour,0.18181818181818182), NERCount(Store,0.18181818181818182), NERCount(Airport,0.17777777777777776), NERCount(Vegas,0.17777777777777776), NERCount(McCarran,0.17777777777777776), NERCount(Vaccine,0.17777777777777776), NERCount(Looks,0.17777777777777776), NERCount(George,0.17647058823529413), NERCount(Facebook,0.17549019607843136), NERCount(Public,0.175), NERCount(Former,0.175), NERCount(AT&ampTs,0.17424242424242425), NERCount(American,0.1726449275362319), NERCount(Investors,0.17142857142857143), NERCount(Covid19,0.16666666666666669), NERCount(Leydens,0.16666666666666666), NERCount(Maker,0.16666666666666666), NERCount(JB,0.16666666666666666), NERCount(Grodin,0.16666666666666666), NERCount(Oat,0.16666666666666666), NERCount(Journey,0.16666666666666666), NERCount(FC,0.16666666666666666), NERCount(Macys,0.16666666666666666), NERCount(Fuel,0.16666666666666666), NERCount(Milk,0.16666666666666666), NERCount(Fighters,0.16666666666666666), NERCount(Pritzker,0.16666666666666666), NERCount(Coronavirus,0.16666666666666666), NERCount(Week,0.16666666666666666), NERCount(Foo,0.16666666666666666), NERCount(Bargain,0.16666666666666666), NERCount(Asian,0.16666666666666666), NERCount(Joan,0.16666666666666666), NERCount(Leyden,0.16666666666666666), NERCount(Islanders,0.16666666666666666), NERCount(IPO,0.16666666666666666), NERCount(Photos,0.16666666666666666), NERCount(Inslee,0.16666666666666666), NERCount(Charles,0.16666666666666666), NERCount(Thats,0.16666666666666666), NERCount(Jay,0.16666666666666666), NERCount(Barcelona,0.16666666666666666), NERCount(Karim,0.16666666666666666), NERCount(Energy,0.16233766233766234), NERCount(TikTok,0.1588235294117647), NERCount(HBO,0.15789473684210525), NERCount(Africa,0.1575757575757576), NERCount(CEO,0.15476190476190477), NERCount(Road,0.15458937198067632), NERCount(Billion,0.15384615384615385), NERCount(Broad,0.15384615384615385), NERCount(Perkins,0.15384615384615385), NERCount(Campus,0.15384615384615385), NERCount(College,0.15384615384615385), NERCount(Citizen,0.15384615384615385), NERCount(Hong,0.15384615384615385), NERCount(Nantong,0.15384615384615385), NERCount(MIT,0.15384615384615385), NERCount(Investing,0.15384615384615385), NERCount(Tracking,0.15384615384615385), NERCount(Bill,0.15384615384615385), NERCount(Democrats,0.15384615384615385), NERCount(Mesa,0.15384615384615385), NERCount(Harvard,0.15384615384615385), NERCount(Counter,0.15384615384615385), NERCount(Found,0.15384615384615385), NERCount(Future,0.15384615384615385), NERCount(Spin,0.15384615384615385), NERCount(Institute,0.15384615384615385), NERCount(Colorado,0.15384615384615385), NERCount(Science,0.15384615384615385), NERCount(Weighs,0.15384615384615385), NERCount(Max,0.15263157894736842), NERCount(Rich,0.15), NERCount(Black,0.15), NERCount(Roughly,0.15), NERCount(Paid,0.15), NERCount(Dies,0.14835164835164835), NERCount(Built,0.14835164835164835), NERCount(Mar,0.14358974358974358), NERCount(Cuttingedge,0.14285714285714285), NERCount(Tyranny,0.14285714285714285), NERCount(Roundup,0.14285714285714285), NERCount(Lyons,0.14285714285714285), NERCount(Mundial,0.14285714285714285), NERCount(Event,0.14285714285714285), NERCount(Policies,0.14285714285714285), NERCount(Tennessee,0.14285714285714285), NERCount(Qatar,0.14285714285714285), NERCount(Dead,0.14285714285714285), NERCount(Conspiracy,0.14285714285714285), NERCount(Behind,0.14285714285714285), NERCount(Lightning,0.14285714285714285), NERCount(Jennifer,0.14285714285714285), NERCount(Starbucks,0.14285714285714285), NERCount(LTHS,0.14285714285714285), NERCount(Malcolm,0.14285714285714285), NERCount(Alsip,0.14285714285714285), NERCount(Sertoma,0.14285714285714285), NERCount(Glauber,0.14285714285714285), NERCount(JPMorgans,0.14285714285714285), NERCount(Detienen,0.14285714285714285), NERCount(Amy,0.14285714285714285), NERCount(Villain,0.14285714285714285), NERCount(Gesture,0.14285714285714285), NERCount(Allen,0.14285714285714285), NERCount(Became,0.14285714285714285), NERCount(Support,0.14285714285714285), NERCount(Contestants,0.14285714285714285), NERCount(Allen”,0.14285714285714285), NERCount(Heroes,0.14285714285714285), NERCount(Relax,0.14285714285714285), NERCount(Hand,0.14285714285714285), NERCount(Marianne,0.14285714285714285), NERCount(F150,0.14285714285714285), NERCount(Fútbol,0.14285714285714285), NERCount(Millionaire,0.14285714285714285), NERCount(Every,0.14285714285714285), NERCount(Businesses,0.14285714285714285), NERCount(Hero,0.14285714285714285), NERCount(Centre,0.14285714285714285), NERCount(AP,0.14285714285714285), NERCount(Mask,0.14285714285714285), NERCount(Chinas,0.14285714285714285), NERCount(Gensler,0.14285714285714285), NERCount(Beat,0.14285714285714285), NERCount(Renovation,0.14285714285714285), NERCount(Jeopardy,0.14285714285714285), NERCount(Selling,0.14285714285714285), NERCount(Drew,0.14285714285714285), NERCount(Bidali,0.14285714285714285), NERCount(Lake,0.14285714285714285), NERCount(Michigan,0.14285714285714285), NERCount(Incumbent,0.14285714285714285), NERCount(Piepszak,0.14285714285714285), NERCount(Memorial,0.14251207729468598), NERCount(News,0.14215686274509803), NERCount(Western,0.13958810068649885), NERCount(Oil,0.1380952380952381), NERCount(Art,0.13392857142857142), NERCount(Use,0.13333333333333333), NERCount(California,0.13333333333333333), NERCount(Johannesburg,0.13333333333333333), NERCount(Girl,0.13333333333333333), NERCount(Rise,0.13333333333333333), NERCount(Iran,0.13333333333333333), NERCount(Identify,0.13333333333333333), NERCount(Justice,0.13333333333333333), NERCount(Dept,0.13333333333333333), NERCount(Irans,0.13333333333333333), NERCount(Critic,0.13333333333333333), NERCount(Spotify,0.13333333333333333), NERCount(Jury,0.13333333333333333), NERCount(Tried,0.13333333333333333), NERCount(Organization,0.12698412698412698), NERCount(Tribunes,0.12692307692307692), NERCount(Got,0.125), NERCount(Alvarez,0.125), NERCount(Unemployment,0.125), NERCount(Sugar,0.125), NERCount(Playing,0.125), NERCount(July,0.125), NERCount(Providence,0.125), NERCount(Mucha,0.125), NERCount(February,0.125), NERCount(Boom,0.125), NERCount(Commercial,0.125), NERCount(Sky,0.125), NERCount(Loop,0.125), NERCount(PandemicDriven,0.125), NERCount(Hinds,0.125), NERCount(Andrew,0.125), NERCount(Juggernaut,0.125), NERCount(Celtics,0.125), NERCount(Roger,0.125), NERCount(CONMEBOL,0.125), NERCount(EPA,0.125), NERCount(AT&TDiscovery,0.125), NERCount(Miss,0.125), NERCount(Museum,0.125), NERCount(Whats,0.125), NERCount(BitcoinSales,0.125), NERCount(Job,0.125), NERCount(Dale,0.125), NERCount(Transactions,0.125), NERCount(Mantachie,0.125), NERCount(Lowincome,0.125), NERCount(Nicole,0.125), NERCount(WNBA,0.125), NERCount(Ging,0.125), NERCount(Scrap,0.125), NERCount(WNBAs,0.125), NERCount(Communications,0.125), NERCount(Ariel,0.125), NERCount(Evans,0.125), NERCount(Copa,0.125), NERCount(Loyola,0.125), NERCount(Stankey,0.125), NERCount(Bliss,0.125), NERCount(Teresa,0.125), NERCount(Search,0.125), NERCount(Requirements,0.125), NERCount(Raises,0.125), NERCount(Mini,0.125), NERCount(Create,0.125), NERCount(Soon,0.125), NERCount(Plate,0.125), NERCount(Bakery,0.125), NERCount(Nashville,0.125), NERCount(Estate,0.125), NERCount(AT&ampT,0.125), NERCount(Wood,0.125), NERCount(Next,0.125), NERCount(Like,0.1213235294117647), NERCount(Mercedes,0.12), NERCount(Sox,0.12), NERCount(Without,0.11764705882352941), NERCount(Struggle,0.11764705882352941), NERCount(Connections,0.11764705882352941), NERCount(Fast,0.11764705882352941), NERCount(Des,0.11764705882352941), NERCount(Areas,0.11764705882352941), NERCount(Marion,0.11764705882352941), NERCount(Moines,0.11764705882352941), NERCount(Iowa,0.11764705882352941), NERCount(Jr,0.11437908496732026), NERCount(Tax,0.1111111111111111), NERCount(Created,0.1111111111111111), NERCount(Fridays,0.1111111111111111), NERCount(Juvenile,0.1111111111111111), NERCount(Hawaii,0.1111111111111111), NERCount(Libertyville,0.1111111111111111), NERCount(Ronald,0.1111111111111111), NERCount(Bradenton,0.1111111111111111), NERCount(IRS,0.1111111111111111), NERCount(Perlman,0.1111111111111111), NERCount(Mets,0.1111111111111111), NERCount(Fla,0.1111111111111111), NERCount(Us,0.1111111111111111), NERCount(DUI,0.1111111111111111), NERCount(Went,0.1111111111111111), NERCount(Phase,0.1111111111111111), NERCount(ECommerce,0.1111111111111111), NERCount(Mike,0.1111111111111111), NERCount(Smith,0.1111111111111111), NERCount(Marist,0.1111111111111111), NERCount(Brenda,0.1111111111111111), NERCount(Weaknesses,0.1111111111111111), NERCount(Superintendent,0.1111111111111111), NERCount(Wisconsin,0.1111111111111111), NERCount(Enthusiasm”,0.1111111111111111), NERCount(Paris,0.1111111111111111), NERCount(Gay,0.1111111111111111), NERCount(Toni,0.1111111111111111), NERCount(Rocky,0.1111111111111111), NERCount(Kukoč,0.1111111111111111), NERCount(Revenue,0.1111111111111111), NERCount(Young,0.1111111111111111), NERCount(Southtowners,0.1111111111111111), NERCount(Half,0.1111111111111111), NERCount(Tries,0.1111111111111111), NERCount(MetroGoldwynMayers,0.1111111111111111), NERCount(Founder,0.1111111111111111), NERCount(Service,0.1111111111111111), NERCount(SanofiGlaxoSmithKline,0.1111111111111111), NERCount(D86,0.1111111111111111), NERCount(Blonde”,0.1111111111111111), NERCount(Grow,0.1111111111111111), NERCount(Group,0.1111111111111111), NERCount(Brutal,0.1111111111111111), NERCount(Wild,0.1111111111111111), NERCount(Gee,0.1111111111111111), NERCount(Christian,0.1111111111111111), NERCount(Nueva,0.1111111111111111), NERCount(Studio,0.1111111111111111), NERCount(Buyer,0.1111111111111111), NERCount(Walmarts,0.1111111111111111), NERCount(Internal,0.1111111111111111), NERCount(Distinction,0.1111111111111111), NERCount(Fame,0.1111111111111111), NERCount(Taught,0.1111111111111111), NERCount(Bulls,0.1111111111111111), NERCount(Need,0.1111111111111111), NERCount(Fed,0.1111111111111111), NERCount(Education,0.1111111111111111), NERCount(April,0.1111111111111111), NERCount(Poole,0.1111111111111111), NERCount(Know,0.1111111111111111), NERCount(Kevin,0.1111111111111111), NERCount(Reveals,0.1111111111111111), NERCount(Nearly,0.1111111111111111), NERCount(Ferrari,0.1111111111111111), NERCount(Paul,0.1111111111111111), NERCount(Mililani,0.1111111111111111), NERCount(Continue,0.1111111111111111), NERCount(Government,0.1111111111111111), NERCount(Video,0.1111111111111111), NERCount(Promise,0.1111111111111111), NERCount(Mundelein,0.1111111111111111), NERCount(Merge,0.1111111111111111), NERCount(Calumet,0.10526315789473684), NERCount(Kyrin,0.10526315789473684), NERCount(Little,0.10526315789473684), NERCount(Carter,0.10526315789473684), NERCount(CNN,0.10263157894736842), NERCount(Busselton,0.1), NERCount(Coastal,0.1), NERCount(Plunge,0.1), NERCount(WNYC,0.1), NERCount(Artes,0.1), NERCount(Jordan,0.1), NERCount(NCAA,0.1), NERCount(Mr,0.1), NERCount(Endurance,0.1), NERCount(Development,0.1), NERCount(Valley,0.1), NERCount(Academia,0.1), NERCount(Migrate,0.1), NERCount(Vaccinations,0.1), NERCount(DeGeneres,0.1), NERCount(Dream,0.1), NERCount(Stephens,0.1), NERCount(FAA,0.1), NERCount(Administration,0.1), NERCount(Australians,0.1), NERCount(Follows,0.1), NERCount(Aviation,0.1), NERCount(Owe,0.1), NERCount(Spreads,0.1), NERCount(Europe,0.1), NERCount(Digitales,0.1), NERCount(Lori,0.1), NERCount(Dreamliner,0.1), NERCount(Manchester,0.1), NERCount(Degeneres,0.1), NERCount(June,0.1), NERCount(Economy,0.1), NERCount(Jetty,0.1), NERCount(YoYoing,0.1), NERCount(Homes,0.1), NERCount(Sailors,0.1), NERCount(Ciencias,0.1), NERCount(Imagine,0.1), NERCount(Lag,0.1), NERCount(Shares,0.1), NERCount(Tokyo,0.1), NERCount(Shrinks,0.1), NERCount(Cavani,0.1), NERCount(Stars,0.1), NERCount(Web,0.1), NERCount(Feds,0.1), NERCount(Wonderment”,0.1), NERCount(Show,0.1), NERCount(Wonderful,0.1), NERCount(Ellen,0.1), NERCount(Este,0.1), NERCount(Mayors,0.1), NERCount(See,0.1), NERCount(Golazo,0.1), NERCount(Bret,0.1), NERCount(First,0.1), NERCount(Reseña/Krasinski,0.09090909090909091), NERCount(Chief,0.09090909090909091), NERCount(John,0.09090909090909091), NERCount(Crawford,0.09090909090909091), NERCount(Negotiating,0.09090909090909091), NERCount(Democratic,0.09090909090909091), NERCount(DiscoveryJason,0.09090909090909091), NERCount(Vagina\",0.09090909090909091), NERCount(Writer,0.09090909090909091), NERCount(Lauren,0.09090909090909091), NERCount(Mitch,0.09090909090909091), NERCount(Parte,0.09090909090909091), NERCount(Sliding,0.09090909090909091), NERCount(Turning,0.09090909090909091), NERCount(Independence,0.09090909090909091), NERCount(Clock,0.09090909090909091), NERCount(Family,0.09090909090909091), NERCount(Krasinski,0.09090909090909091), NERCount(Away,0.09090909090909091), NERCount(Asia,0.09090909090909091), NERCount(Oped,0.09090909090909091), NERCount(Mary,0.09090909090909091), NERCount(McConnell,0.09090909090909091), NERCount(Said,0.09090909090909091), NERCount(Back,0.09090909090909091), NERCount(Chicagoarea,0.09090909090909091), NERCount(Northwestern,0.09090909090909091), NERCount(Sex,0.09090909090909091), NERCount(Exit,0.09090909090909091), NERCount(Streicher,0.09090909090909091), NERCount(Wisniewski,0.09090909090909091), NERCount(Risk,0.09090909090909091), NERCount(Capitol,0.09090909090909091), NERCount(Grange,0.08695652173913043), NERCount(Post,0.08695652173913043), NERCount(Springs,0.08695652173913043), NERCount(Square,0.08333333333333333), NERCount(Connecticut,0.08333333333333333), NERCount(Shutdown,0.08333333333333333), NERCount(Governments,0.08333333333333333), NERCount(Latest,0.08333333333333333), NERCount(Fairgrounds,0.08333333333333333), NERCount(Thrones,0.08333333333333333), NERCount(Run,0.08333333333333333), NERCount(Heartbreak,0.08333333333333333), NERCount(Departments,0.08333333333333333), NERCount(Jump,0.08333333333333333), NERCount(Refocusing,0.08333333333333333), NERCount(Restart,0.08333333333333333), NERCount(Health,0.08333333333333333), NERCount(Executive,0.08333333333333333), NERCount(Randall,0.08333333333333333), NERCount(Lays,0.08333333333333333), NERCount(Bolster,0.08333333333333333), NERCount(Worlds,0.08333333333333333), NERCount(Titan,0.08333333333333333), NERCount(Stephenson,0.08333333333333333), NERCount(Game,0.08333333333333333), NERCount(Herald,0.08333333333333333), NERCount(Kid”,0.08333333333333333), NERCount(Priorities,0.08333333333333333), NERCount(Field,0.08333333333333333), NERCount(Rudy,0.08333333333333333), NERCount(Run”,0.08333333333333333), NERCount(Begins,0.08333333333333333), NERCount(Ascends,0.08333333333333333), NERCount(FirstQuarter,0.08333333333333333), NERCount(Wait”,0.08333333333333333), NERCount(Order,0.08333333333333333), NERCount(Shoppers,0.08333333333333333), NERCount(Wait,0.08333333333333333), NERCount(Signs,0.08333333333333333), NERCount(Wheaton,0.08333333333333333), NERCount(Colonial Pipeline,0.08333333333333333), NERCount(Wrigley,0.08333333333333333), NERCount(Percent,0.08333333333333333), NERCount(Yermín,0.08), NERCount(Minnesota,0.08), NERCount(White,0.08), NERCount(Russa,0.08), NERCount(Tony,0.08), NERCount(Twins,0.08), NERCount(Facial,0.07692307692307693), NERCount(Hickory,0.07692307692307693), NERCount(Terminal,0.07692307692307693), NERCount(Bridgeview,0.07692307692307693), NERCount(Domestic,0.07692307692307693), NERCount(Falsely,0.07692307692307693), NERCount(Philippines,0.07692307692307693), NERCount(Epstein,0.07692307692307693), NERCount(BritainA,0.07692307692307693), NERCount(Apology,0.07692307692307693), NERCount(Leigh,0.07692307692307693), NERCount(Vermont&rsquos,0.07692307692307693), NERCount(Promised,0.07692307692307693), NERCount(Lifestyle,0.07692307692307693), NERCount(Software,0.07692307692307693), NERCount(Starting,0.07692307692307693), NERCount(Orvis,0.07692307692307693), NERCount(Sammies,0.07692307692307693), NERCount(Tinley,0.07692307692307693), NERCount(Angeles,0.07692307692307693), NERCount(Hilton,0.07692307692307693), NERCount(Jeffrey,0.07692307692307693), NERCount(Goings,0.07692307692307693), NERCount(Bowl,0.07692307692307693), NERCount(Behavior,0.07692307692307693), NERCount(Recognition,0.07692307692307693), NERCount(App,0.07692307692307693), NERCount(Extends,0.07692307692307693), NERCount(Epidemic,0.07692307692307693), NERCount(Victoria,0.07692307692307693), NERCount(Reputation,0.07692307692307693), NERCount(Questionable,0.07692307692307693), NERCount(Leading,0.07692307692307693), NERCount(Battenkill,0.07692307692307693), NERCount(Palisades,0.07692307692307693), NERCount(Want,0.07692307692307693), NERCount(Phishing,0.07692307692307693), NERCount(Bonus,0.07692307692307693), NERCount(Café,0.07692307692307693), NERCount(Discrimination,0.07692307692307693), NERCount(Comings,0.07692307692307693), NERCount(Long,0.07692307692307693), NERCount(Work,0.07692307692307693), NERCount(Kongs,0.07692307692307693), NERCount(Accused,0.07692307692307693), NERCount(Navy,0.07692307692307693), NERCount(Midlands,0.07692307692307693), NERCount(AfricanAmericansDemonstrators,0.07692307692307693), NERCount(Wildfire,0.07692307692307693), NERCount(York Working,0.07692307692307693), NERCount(Divorce,0.07692307692307693), NERCount(Kong,0.07692307692307693), NERCount(Birmingham,0.07692307692307693), NERCount(Physiological,0.07692307692307693), NERCount(Moratorium,0.07692307692307693), NERCount(Chicagoans,0.07692307692307693), NERCount(Melinda,0.07692307692307693), NERCount(Test,0.07692307692307693), NERCount(Deaths,0.07692307692307693), NERCount(Welcome,0.07692307692307693), NERCount(Hours,0.07692307692307693), NERCount(Indonesia,0.07692307692307693), NERCount(Pier,0.07692307692307693), NERCount(Brand,0.07692307692307693), NERCount(Lightfoots,0.07692307692307693), NERCount(French,0.07692307692307693), NERCount(Indefinitely,0.07692307692307693), NERCount(England,0.07692307692307693), NERCount(Chipotle,0.07692307692307693), NERCount(Perk,0.07692307692307693), NERCount(Premature,0.07692307692307693), NERCount(Architecture,0.07142857142857142), NERCount(Mergers,0.07142857142857142), NERCount(Global,0.07142857142857142), NERCount(Luxury,0.07142857142857142), NERCount(Spinning,0.07142857142857142), NERCount(Minister,0.07142857142857142), NERCount(Reform,0.07142857142857142), NERCount(Company,0.07142857142857142), NERCount(Put,0.07142857142857142), NERCount(Francisco,0.07142857142857142), NERCount(Huarong,0.07142857142857142), NERCount(Dorm,0.07142857142857142), NERCount(Agency,0.07142857142857142), NERCount(Resolve,0.07142857142857142), NERCount(Tech”,0.07142857142857142), NERCount(Financial,0.07142857142857142), NERCount(Millions,0.07142857142857142), NERCount(Ripped,0.07142857142857142), NERCount(Hawley,0.07142857142857142), NERCount(April ,0.07142857142857142), NERCount(Canada,0.07142857142857142), NERCount(Biggest,0.07142857142857142), NERCount(Hawleys,0.07142857142857142), NERCount(Martinez,0.07142857142857142), NERCount(Austin,0.07142857142857142), NERCount(Climate,0.07142857142857142), NERCount(Management,0.07142857142857142), NERCount(Asset,0.07142857142857142), NERCount(Gas,0.07142857142857142), NERCount(Alberta,0.07142857142857142), NERCount(IEA,0.07142857142857142), NERCount(Prime,0.07142857142857142), NERCount(End,0.07142857142857142), NERCount(Klobuchars,0.07142857142857142), NERCount(Klobuchar,0.07142857142857142), NERCount(AirportArt,0.07142857142857142), NERCount(Report,0.07142857142857142), NERCount(Calls,0.07142857142857142), NERCount(China&rsquos,0.07142857142857142), NERCount(Unwinds,0.07142857142857142), NERCount(Billions,0.07142857142857142), NERCount(Say,0.07142857142857142), NERCount(Projects,0.07142857142857142), NERCount(Shanghai,0.07142857142857142), NERCount(Skyloft,0.07142857142857142), NERCount(Josh,0.07142857142857142), NERCount(Student,0.07142857142857142), NERCount(San,0.07142857142857142), NERCount(Lawyers,0.07142857142857142), NERCount(Tests,0.07142857142857142), NERCount(Electric,0.06666666666666667), NERCount(Fears,0.06666666666666667), NERCount(Set,0.06666666666666667), NERCount(Musicfilled,0.06666666666666667), NERCount(África,0.06666666666666667), NERCount(Raleigh,0.06666666666666667), NERCount(Surge,0.06666666666666667), NERCount(Plans,0.06666666666666667), NERCount(Dips,0.06666666666666667), NERCount(Arkansas,0.06666666666666667), NERCount(Make,0.06666666666666667), NERCount(Rabat,0.06666666666666667), NERCount(Hospital,0.06666666666666667), NERCount(Songs,0.06666666666666667), NERCount(Could,0.06666666666666667), NERCount(Songbook”,0.06666666666666667), NERCount(Occidental,0.06666666666666667), NERCount(Sahara,0.06666666666666667), NERCount(Dearborn,0.06666666666666667), NERCount(Ceuta,0.06666666666666667), NERCount(Rejoin,0.06666666666666667), NERCount(Maxeke,0.06666666666666667), NERCount(Abroad,0.06666666666666667), NERCount(Vaccinating,0.06666666666666667), NERCount(Supply,0.06666666666666667), NERCount(Google,0.06666666666666667), NERCount(Virginia,0.06666666666666667), NERCount(Step,0.06666666666666667), NERCount(Doses,0.06666666666666667), NERCount(Rules,0.06666666666666667), NERCount(Costco,0.06666666666666667), NERCount(Spotifyexclusive,0.06666666666666667), NERCount(Break,0.06666666666666667), NERCount(Infrastructure,0.06666666666666667), NERCount(Thursday,0.06666666666666667), NERCount(Music,0.06666666666666667), NERCount(Venezuela American,0.06666666666666667), NERCount(Pickups,0.06666666666666667), NERCount(Arranged,0.06666666666666667), NERCount(Dithers,0.06666666666666667), NERCount(Songbook&rdquo,0.06666666666666667), NERCount(Exports,0.06666666666666667), NERCount(Mich,0.06666666666666667), NERCount(Lumber,0.06666666666666667), NERCount(Explain,0.06666666666666667), NERCount(Cars,0.06666666666666667), NERCount(Smith&rsquos,0.06666666666666667), NERCount(Nuclear,0.06666666666666667), NERCount(Marriage,0.06666666666666667), NERCount(Roja,0.06666666666666667), NERCount(Iranian,0.06666666666666667), NERCount(Charlotte,0.06666666666666667), NERCount(Maryland,0.06666666666666667), NERCount(Academic,0.06666666666666667), NERCount(Accord,0.06666666666666667), NERCount(Mediterráneo,0.06666666666666667), NERCount(Inflation,0.06666666666666667), NERCount(Send,0.06666666666666667), NERCount(World,0.06666666666666667), NERCount(Una,0.06666666666666667), NERCount(NC,0.06666666666666667), NERCount(Podcasts,0.06666666666666667), NERCount(Footage,0.0625), NERCount(UAW,0.0625), NERCount(Auto,0.0625), NERCount(Forming,0.0625), NERCount(Details,0.0625), NERCount(Civilian,0.0625), NERCount(Office,0.0625), NERCount(WorkersThe,0.0625), NERCount(Union,0.0625), NERCount(Manhattan,0.0625), NERCount(Accountability,0.0625), NERCount(PalestiniansThe,0.058823529411764705), NERCount(Hardy,0.058823529411764705), NERCount(IsraeliPalestinian,0.058823529411764705), NERCount(Scammed,0.058823529411764705), NERCount(Reddit,0.058823529411764705), NERCount(Dismiss,0.058823529411764705), NERCount(Trade,0.058823529411764705), NERCount(Pandemic,0.058823529411764705), NERCount(Impostors,0.058823529411764705), NERCount(Aquilla,0.058823529411764705), NERCount(SpaceX,0.058823529411764705), NERCount(Murdochcontrolled,0.058823529411764705), NERCount(Joseph,0.058823529411764705), NERCount(Coverage,0.058823529411764705), NERCount(Files,0.058823529411764705), NERCount(Draws,0.058823529411764705), NERCount(Lies,0.058823529411764705), NERCount(Attention,0.058823529411764705), NERCount(Today,0.058823529411764705), NERCount(Misinformation,0.058823529411764705), NERCount(Social,0.058823529411764705), NERCount(Shrouq,0.058823529411764705), NERCount(Israelis,0.058823529411764705), NERCount(Photoshop,0.058823529411764705), NERCount(Rupert,0.058823529411764705), NERCount(October,0.058823529411764705), NERCount(Inflaming,0.058823529411764705), NERCount(Conflict,0.058823529411764705), NERCount(Election,0.058823529411764705), NERCount(Dominions,0.058823529411764705), NERCount(Al,0.058823529411764705), NERCount(Lawsuit,0.058823529411764705), NERCount(Cryptocurrency,0.058823529411764705), NERCount(Creation,0.058823529411764705), NERCount(Croatia,0.05555555555555555), NERCount(European,0.05555555555555555), NERCount(Basketball,0.05555555555555555), NERCount(Naismith,0.05555555555555555), NERCount(NBA,0.05555555555555555), NERCount(Focus,0.05263157894736842), NERCount(Best,0.05263157894736842), NERCount(Sheds,0.05263157894736842), NERCount(Missouri,0.05263157894736842), NERCount(Secret,0.05263157894736842), NERCount(Oprah,0.05263157894736842), NERCount(Hotel,0.05263157894736842), NERCount(Cox,0.05263157894736842), NERCount(Hatched,0.05263157894736842), NERCount(HGTVBrian,0.05263157894736842), NERCount(Winfreys,0.05263157894736842), NERCount(Gladstone,0.05), NERCount(Chairman,0.05), NERCount(Ald,0.05), NERCount(Supervisor,0.05), NERCount(Inc,0.05), NERCount(WNYCs,0.05), NERCount(Radio,0.05), NERCount(Friend,0.05), NERCount(Bankerbrbr*Some,0.05), NERCount(Salela,0.05), NERCount(Shirley,0.05), NERCount(Powerful,0.05), NERCount(Tariffs,0.05), NERCount(Assisi,0.05), NERCount(Begin,0.05), NERCount(Ervin,0.05), NERCount(CoHost,0.05), NERCount(Steel,0.05), NERCount(Bob,0.05), NERCount(Caucus,0.05), NERCount(Phone,0.05), NERCount(Green,0.05), NERCount(Center,0.05), NERCount(Iron,0.05), NERCount(Fires,0.05), NERCount(Media”,0.05), NERCount(Bridget,0.05), NERCount(Burrell,0.05), NERCount(Megadeal,0.05), NERCount(Trump&rsquos,0.05), NERCount(Coldwell,0.05), NERCount(Jackson,0.05), NERCount(Brooke,0.05), NERCount(Italy,0.05), NERCount(Talks,0.05), NERCount(Walt,0.05), NERCount(Reunited,0.05), NERCount(Ave,0.05), NERCount(Aluminum,0.05), NERCount(Listed,0.05), NERCount(Forest,0.05), NERCount(Council,0.05), NERCount(CNNs,0.05), NERCount(Senior,0.05), NERCount(TrumpWorking,0.05), NERCount(SpA,0.05), NERCount(Coulter,0.043478260869565216), NERCount(Robert,0.043478260869565216), NERCount(Legion,0.043478260869565216), NERCount(VFW,0.043478260869565216), NERCount(Granges,0.043478260869565216), NERCount(Local,0.043478260869565216), NERCount(Democrat,0.041666666666666664), NERCount(Republican,0.041666666666666664), NERCount(NY,0.041666666666666664), NERCount(Cuomo,0.041666666666666664), NERCount(Astudillo,0.04), NERCount(Willians,0.04))\n"
     ]
    }
   ],
   "source": [
    "println(finalRes)"
   ]
  },
  {
   "cell_type": "markdown",
   "id": "bc4b4edd-9edf-4c76-a35e-7c81dd2303d8",
   "metadata": {
    "id": "located-cookbook",
    "tags": []
   },
   "source": [
    "## 4. Modelo Marcos"
   ]
  },
  {
   "cell_type": "markdown",
   "id": "pA52AhrwgeXP",
   "metadata": {
    "id": "pA52AhrwgeXP",
    "tags": []
   },
   "source": [
    "1- Hay vario sitios de noticia, por ejemplo tenemos el sitio de noticia del diario la nación, de infobae, de radio mitre.\n",
    "\n",
    "Modelamos esto con una clase tipo servicio de noticas. Por ejemplo creamos un objeto del sitio LaNacion\n",
    "\n",
    "*servicioDeNoticias = new ServicioDeNoticas(“LaNacion”);*\n"
   ]
  },
  {
   "cell_type": "markdown",
   "id": "Cs19CZaSgk_p",
   "metadata": {
    "id": "Cs19CZaSgk_p",
    "tags": []
   },
   "source": [
    "2- Cada uno de los sitios de noticia tiene varias formas de acceder a las noticias. Por ejemplo se pueden leer las noticias de la nación en formato xml, en formato url o en texto plano.\n",
    "\n",
    "Modelamos esto haciendo que el objeto servicioDeNoticia tenga un método obtenerArticulosDesdeUnFormatoXML  que nos devuelve un listado de artículos. Cada articulo tiene  un método título y un método descripción.\n",
    "\n",
    "*listaDeArticulo = servicioDeNoticia.ObtenerArticulosFormatoXML(url)*\n",
    "\n"
   ]
  },
  {
   "cell_type": "markdown",
   "id": "i_RvkGZ0g2RH",
   "metadata": {
    "id": "i_RvkGZ0g2RH",
    "tags": []
   },
   "source": [
    "3- Hay dos modelos de clasificación, uno usando un conjunto de reglas y el otro usando redes neuronales. Los modelos tienen un método detectarEntidadesNombradas que reciben una listaDeArticulos y devuelve una lista de entidadesNombradas. \n",
    "\n",
    "Modelamos esto usando herencia. Las clases ModeloDeClasificacionUsandoConjuntoDeReglas y  ModeloDeClasificacionUsandoRedesNeuronales heredan de ModeloDeClasificacion. \n",
    "\n",
    "La clase ModeloDeClasificacion tiene un metodo virtual DetectarEntidadesNombradas que recibe como parametros una listaDeArticulos y devuelve una listaDeEntidadesNombradas. Las entidades nombradas tienen un método nombre y un método frecuencia.\n",
    "\n",
    "Modelamos esto de la siguiente manera:\n",
    "\n",
    "*listaDeEntidadesNombradas = ModeloDeClasificacionUsandoConjuntoDeReglas.DetectarEntidadesNombradas(ListaDeArticulos)*\n"
   ]
  },
  {
   "cell_type": "markdown",
   "id": "g5RLUa5ki43K",
   "metadata": {
    "id": "g5RLUa5ki43K",
    "tags": []
   },
   "source": [
    "#Pseudocodigo"
   ]
  },
  {
   "cell_type": "code",
   "execution_count": null,
   "id": "hReCjGHRiIZf",
   "metadata": {
    "id": "hReCjGHRiIZf",
    "tags": []
   },
   "outputs": [],
   "source": [
    "listaDeArticulos = new ListaDeArticulos(Articulos)\n",
    "listaDeEntidadesNombradas = new ListaDeEntidadesNombradas(EntidadesNombradas)\n"
   ]
  },
  {
   "cell_type": "code",
   "execution_count": null,
   "id": "dvAYWvhMiBzq",
   "metadata": {
    "id": "dvAYWvhMiBzq",
    "tags": []
   },
   "outputs": [],
   "source": [
    "servicioDeNoticasLaNacion = new ServicioDeNoticas(\"LaNacion\")\n",
    "direccionUrlDeLasNoticiasConFormatoXML = \"http://unNombreDeDominio.unArchivo.xml\"\n",
    "listaDeArticulo = servicioDeNoticiaLaNacion.ObtenerArticulosDesdeUnFormatoXML(direccionUrlDeLasNoticiasConFormatoXML)\n",
    "listaDeEntidadesNombradas = ModeloDeClasificacionUsandoConjuntoDeReglas.detectarEntidadesNombradas(ListaDeArticulos)\n",
    "for entidadNombrada in listaDeEntidadesNombradas:\n",
    "    print entidadNombrada.Nombre\n",
    "    print entidadNombrada.Frecuencia\n"
   ]
  },
  {
   "cell_type": "code",
   "execution_count": null,
   "id": "RsNi_imwhyD_",
   "metadata": {
    "id": "RsNi_imwhyD_",
    "tags": []
   },
   "outputs": [],
   "source": [
    "direccionUrlDeLasNoticiasConFormatoJSON = \"http://wxdd.ss.archivo.json\"\n",
    "listaDeArticulos = servicioDeNoticiaLaNacion.ObtenerArticulosDesdeUnFormatoJSON(direccionUrlDeLasNoticiasConFormatoJSON)\n",
    "listaDeEntidadesNombradas = ModeloDeClasificacionUsandoConjuntoDeReglas.detectarEntidadesNombradas(ListaDeArticulos)\n",
    "for entidadNombrada in listaDeEntidadesNombradas:\n",
    "    print entidadNombrada.Nombre\n",
    "    print entidadNombrada.Frecuencia\n"
   ]
  },
  {
   "cell_type": "code",
   "execution_count": null,
   "id": "fvyEOYZhhzSl",
   "metadata": {
    "id": "fvyEOYZhhzSl",
    "tags": []
   },
   "outputs": [],
   "source": [
    "servicioDeNoticasInfobae = new ServicioDeNoticas(\"Infobae\")\n",
    "listaDeEntidadesNombradasInfobaeTextoPlano = ListaDeEntidadesNombradas(EntidadesNombradas)\n",
    "direccionUrlDeLasNoticiasConFormatoTextoPlano = \"c:/users/documents/archivo.txt\"\n",
    "listaDeArticulos = servicioDeNoticiaInfobae.ObtenerArticulosDesdeUnFormatoTextoPlano(direccionUrlDeLasNoticiasConFormatoTextoPlano)\n",
    "\n",
    "listaDeEntidadesNombradas = ModeloDeClasificacionUsandoConjuntoDeReglas.detectarEntidadesNombradas(ListaDeArticulos)\n",
    "\n",
    "for entidadNombrada in listaDeEntidadesNombradas:\n",
    "    print entidadNombrada.Nombre\n",
    "    print entidadNombrada.Frecuencia\n"
   ]
  },
  {
   "cell_type": "code",
   "execution_count": null,
   "id": "T-kpfM31iQOI",
   "metadata": {
    "id": "T-kpfM31iQOI",
    "tags": []
   },
   "outputs": [],
   "source": [
    "Clase: ServicioDeNoticia\n",
    "Metodos:\n",
    "obtenerArticulosDesdeUnFormatoXML(direccionUrl):ListaDeArticulos\n",
    "obtenerArticulosDesdeUnFormatoJSON(direccionUrl):ListaDeArticulos\n",
    "\n",
    "ListaDeArticulos\n",
    "Clase:Articulo\n",
    "Metodos:\n",
    "  Titulo\n",
    "  Descripcion\n",
    "\n",
    "\n",
    "ModeloDeClasificacionUsandoRedesNeuronales:ModeloDeClasificacion\n",
    "ModeloDeClasificacionUsandoConjuntoDeReglas:ModeloDeClasificacion\n",
    "detectarEntidadesNombradas(ListaDeArticulos):EntidadesNombradas\n",
    "\n",
    "ListaDeEntidadesNombradas\n",
    "Clase: EntidadesNombradas\n",
    "Metodos:\n",
    "  Nombre\n",
    "  Frecuencia\n"
   ]
  }
 ],
 "metadata": {
  "colab": {
   "collapsed_sections": [],
   "name": "pipeline_ner.ipynb",
   "provenance": []
  },
  "kernelspec": {
   "display_name": "Scala",
   "language": "scala",
   "name": "scala"
  },
  "language_info": {
   "codemirror_mode": "text/x-scala",
   "file_extension": ".scala",
   "mimetype": "text/x-scala",
   "name": "scala",
   "nbconvert_exporter": "script",
   "version": "2.11.12"
  }
 },
 "nbformat": 4,
 "nbformat_minor": 5
}
