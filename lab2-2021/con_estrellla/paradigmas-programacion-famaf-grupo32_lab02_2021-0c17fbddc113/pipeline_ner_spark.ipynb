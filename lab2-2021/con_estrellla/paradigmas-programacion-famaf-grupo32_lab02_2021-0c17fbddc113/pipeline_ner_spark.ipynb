{
 "cells": [
  {
   "cell_type": "markdown",
   "id": "split-coral",
   "metadata": {},
   "source": [
    "# Named Entity Recognition Pipeline\n",
    "\n",
    "El pipeline toma una URL de un feed en formato RSS, obtiene el título y descripción de los artículos en el feed, detecta las NER con un modelo pre-entrenado, y las muestra ordenadas por frecuencia de aparición.\n",
    "\n",
    "### Versiones\n",
    "Probado con:\n",
    "* Almond 0.6.0\n",
    "* Ammonite 1.6.7\n",
    "* Scala library version **2.11.12** -- Copyright 2002-2017, LAMP/EPFL\n",
    "* Java 1.8.0_282\n",
    "\n",
    "Para ver más información ir a (Help -> About Scala Kernel)"
   ]
  },
  {
   "cell_type": "markdown",
   "id": "split-boring",
   "metadata": {
    "tags": []
   },
   "source": [
    "## 1. Obtener texto"
   ]
  },
  {
   "cell_type": "markdown",
   "id": "friendly-arbitration",
   "metadata": {},
   "source": [
    "### 1.1 Importar librerías\n",
    "\n",
    "Markdown **negrita**"
   ]
  },
  {
   "cell_type": "code",
   "execution_count": 1,
   "id": "forward-bulgarian",
   "metadata": {
    "collapsed": true,
    "jupyter": {
     "outputs_hidden": true
    },
    "tags": []
   },
   "outputs": [
    {
     "name": "stderr",
     "output_type": "stream",
     "text": [
      "Downloading https://repo1.maven.org/maven2/org/scalaj/scalaj-http_2.11/2.4.2/scalaj-http_2.11-2.4.2.pom.sha1\n",
      "Downloading https://repo1.maven.org/maven2/org/scalaj/scalaj-http_2.11/2.4.2/scalaj-http_2.11-2.4.2.pom\n",
      "Downloaded https://repo1.maven.org/maven2/org/scalaj/scalaj-http_2.11/2.4.2/scalaj-http_2.11-2.4.2.pom\n",
      "Downloaded https://repo1.maven.org/maven2/org/scalaj/scalaj-http_2.11/2.4.2/scalaj-http_2.11-2.4.2.pom.sha1\n",
      "Downloading https://repo1.maven.org/maven2/org/scalaj/scalaj-http_2.11/2.4.2/scalaj-http_2.11-2.4.2.jar\n",
      "Downloading https://repo1.maven.org/maven2/org/scalaj/scalaj-http_2.11/2.4.2/scalaj-http_2.11-2.4.2-sources.jar.sha1\n",
      "Downloading https://repo1.maven.org/maven2/org/scalaj/scalaj-http_2.11/2.4.2/scalaj-http_2.11-2.4.2-sources.jar\n",
      "Downloading https://repo1.maven.org/maven2/org/scalaj/scalaj-http_2.11/2.4.2/scalaj-http_2.11-2.4.2.jar.sha1\n",
      "Downloaded https://repo1.maven.org/maven2/org/scalaj/scalaj-http_2.11/2.4.2/scalaj-http_2.11-2.4.2-sources.jar.sha1\n",
      "Downloaded https://repo1.maven.org/maven2/org/scalaj/scalaj-http_2.11/2.4.2/scalaj-http_2.11-2.4.2.jar.sha1\n",
      "Downloaded https://repo1.maven.org/maven2/org/scalaj/scalaj-http_2.11/2.4.2/scalaj-http_2.11-2.4.2-sources.jar\n",
      "Downloaded https://repo1.maven.org/maven2/org/scalaj/scalaj-http_2.11/2.4.2/scalaj-http_2.11-2.4.2.jar\n",
      "Downloading https://repo1.maven.org/maven2/org/scala-lang/modules/scala-xml_2.11/1.3.0/scala-xml_2.11-1.3.0.pom\n",
      "Downloading https://repo1.maven.org/maven2/org/scala-lang/modules/scala-xml_2.11/1.3.0/scala-xml_2.11-1.3.0.pom.sha1\n",
      "Downloaded https://repo1.maven.org/maven2/org/scala-lang/modules/scala-xml_2.11/1.3.0/scala-xml_2.11-1.3.0.pom\n",
      "Downloaded https://repo1.maven.org/maven2/org/scala-lang/modules/scala-xml_2.11/1.3.0/scala-xml_2.11-1.3.0.pom.sha1\n",
      "Downloading https://repo1.maven.org/maven2/org/scala-lang/modules/scala-xml_2.11/1.3.0/scala-xml_2.11-1.3.0.jar\n",
      "Downloading https://repo1.maven.org/maven2/org/scala-lang/modules/scala-xml_2.11/1.3.0/scala-xml_2.11-1.3.0.jar.sha1\n",
      "Downloading https://repo1.maven.org/maven2/org/scala-lang/modules/scala-xml_2.11/1.3.0/scala-xml_2.11-1.3.0-sources.jar\n",
      "Downloading https://repo1.maven.org/maven2/org/scala-lang/modules/scala-xml_2.11/1.3.0/scala-xml_2.11-1.3.0-sources.jar.sha1\n",
      "Downloaded https://repo1.maven.org/maven2/org/scala-lang/modules/scala-xml_2.11/1.3.0/scala-xml_2.11-1.3.0.jar.sha1\n",
      "Downloaded https://repo1.maven.org/maven2/org/scala-lang/modules/scala-xml_2.11/1.3.0/scala-xml_2.11-1.3.0-sources.jar.sha1\n",
      "Downloaded https://repo1.maven.org/maven2/org/scala-lang/modules/scala-xml_2.11/1.3.0/scala-xml_2.11-1.3.0-sources.jar\n",
      "Downloaded https://repo1.maven.org/maven2/org/scala-lang/modules/scala-xml_2.11/1.3.0/scala-xml_2.11-1.3.0.jar\n"
     ]
    },
    {
     "data": {
      "text/plain": [
       "\u001b[32mimport \u001b[39m\u001b[36m$ivy.$                              \n",
       "// \"org.scala-lang.modules\" %% \"scala-xml\" % \"1.3.0\"\n",
       "\u001b[39m\n",
       "\u001b[32mimport \u001b[39m\u001b[36m$ivy.$                                        \u001b[39m"
      ]
     },
     "execution_count": 1,
     "metadata": {},
     "output_type": "execute_result"
    }
   ],
   "source": [
    "// Equivalent of adding dependencies to maven or sbt files\n",
    "// For example, to add \"org.scalaj\" %% \"scalaj-http\" % \"2.4.2\" \n",
    "import $ivy.`org.scalaj::scalaj-http:2.4.2`\n",
    "// \"org.scala-lang.modules\" %% \"scala-xml\" % \"1.3.0\"\n",
    "import $ivy.`org.scala-lang.modules::scala-xml:1.3.0`"
   ]
  },
  {
   "cell_type": "code",
   "execution_count": 2,
   "id": "confirmed-choir",
   "metadata": {},
   "outputs": [
    {
     "data": {
      "text/plain": [
       "\u001b[32mimport \u001b[39m\u001b[36mscalaj.http.{Http, HttpResponse}\n",
       "\u001b[39m\n",
       "\u001b[32mimport \u001b[39m\u001b[36mscala.xml.XML\u001b[39m"
      ]
     },
     "execution_count": 2,
     "metadata": {},
     "output_type": "execute_result"
    }
   ],
   "source": [
    "import scalaj.http.{Http, HttpResponse}\n",
    "import scala.xml.XML"
   ]
  },
  {
   "cell_type": "markdown",
   "id": "international-search",
   "metadata": {},
   "source": [
    "### 1.1 Obtener el texto del RSS Feed\n",
    "\n",
    "Realizamos una consulta HTTP, que nos devuelve una instancia de HTTPResponse. Dentro del atributo `body` de la HTTPResponse, se encuentra el texto del feed en formato XML. Luego, se parsea el XML para extraer los campos `title` y `description`."
   ]
  },
  {
   "cell_type": "code",
   "execution_count": 3,
   "id": "intended-talent",
   "metadata": {
    "collapsed": true,
    "jupyter": {
     "outputs_hidden": true
    },
    "tags": []
   },
   "outputs": [
    {
     "data": {
      "text/plain": [
       "\u001b[36murl\u001b[39m: \u001b[32mString\u001b[39m = \u001b[32m\"https://www.chicagotribune.com/arcio/rss/category/sports/?query=display_date:[now-2d+TO+now]&sort=display_date:desc\"\u001b[39m\n",
       "\u001b[36mresponse\u001b[39m: \u001b[32mHttpResponse\u001b[39m[\u001b[32mString\u001b[39m] = \u001b[33mHttpResponse\u001b[39m(\n",
       "  \u001b[32m\"\"\"<?xml version=\"1.0\" encoding=\"utf-8\"?>\n",
       "<rss version=\"2.0\" xmlns:atom=\"http://www.w3.org/2005/Atom\" xmlns:content=\"http://purl.org/rss/1.0/modules/content/\" xmlns:dc=\"http://purl.org/dc/elements/1.1/\" xmlns:media=\"http://search.yahoo.com/mrss/\" xmlns:sy=\"http://purl.org/rss/1.0/modules/syndication/\"><channel><title>Chicago Tribune</title><link>https://www.chicagotribune.com</link><language>en-US</language><copyright>© 2021 Chicago Tribune</copyright><atom:link href=\"https://www.chicagotribune.com/arcio/rss/category/sports/?query=display_date:%5Bnow-2d+TO+now%5D&amp;sort=display_date:desc\" rel=\"self\" type=\"application/rss+xml\"/><description>Chicago Tribune News Feed</description><lastBuildDate>Fri, 23 Apr 2021 14:10:30 +0000</lastBuildDate><ttl>1</ttl><sy:updatePeriod>hourly</sy:updatePeriod><sy:updateFrequency>1</sy:updateFrequency><item><title>Tokyo under ‘emergency orders’ to stop surging COVID-19 cases with the Olympics only 3 months away</title><link>https://www.chicagotribune.com/sports/olympics/ct-tokyo-olympics-covid-emergency-orders-20210423-yh2ajorsu5fldind4q62r5liqu-story.html#ed=rss_www.chicagotribune.com/arcio/rss/category/sports/</link><guid isPermaLink=\"true\">https://www.chicagotribune.com/sports/olympics/ct-tokyo-olympics-covid-emergency-orders-20210423-yh2ajorsu5fldind4q62r5liqu-story.html</guid><dc:creator>STEPHEN WADE and MARI YAMAGUCHI</dc:creator><pubDate>Fri, 23 Apr 2021 12:33:34 +0000</pubDate><description>Only three months before the postponed Olympics are set to open, Tokyo and Japan’s second largest metropolitan area of Osaka have been placed under emergency orders aimed at stemming surging cases of the coronavirus.</description><content:encoded><![CDATA[<p>Only three months before the postponed Olympics are set to open, Tokyo and Japan’s second largest metropolitan area of Osaka have been placed under emergency orders aimed at stemming surging cases of the coronavirus.</p>]]></content:encoded><media:content type=\"image/jpeg\" url=\"https://www.chicagotribune.com/resizer/KlsmBQH-okhzsntY4iX2kGwmxYQ=/cloudfront-us-east-1.images.arcpublishing.com/tronc/5U6UK4XPMSSYEL5TRFPQ66UHZQ.aspx\"><media:description type=\"plain\"><![CDATA[Olympics rings are reflected on the window of a hotel restaurant as a server with a mask sets up a table, in the Odaiba section of Tokyo on Feb. 24, 2020.]]></media:description><media:credit role=\"author\" scheme=\"urn:ebu\"><![CDATA[Jae C. Hong]]></media:credit></media:content></item><item><title>Terrence Clarke, a former Kentucky guard and NBA prospect, dies in an LA car crash at age 19</title><link>https://www.chicagotribune.com/sports/breaking/ct-terrence-clarke-kentucky-dies-car-crash-20210423-jer6ybt7cjbczfsiwk2inwudfq-story.html#ed=rss_www.chicagotribune.com/arcio/rss/category/sports/</link><guid isPermaLink=\"true\">https://www.chicagotribune.com/sports/breaking/ct-terrence-clarke-kentucky-dies-car-crash-20210423-jer6ybt7cjbczfsiwk2inwudfq-story.html</guid><dc:creator>Associated Press staff</dc:creator\u001b[39m...\n",
       "\u001b[36mxmlString\u001b[39m: \u001b[32mString\u001b[39m = \u001b[32m\"\"\"<?xml version=\"1.0\" encoding=\"utf-8\"?>\n",
       "<rss version=\"2.0\" xmlns:atom=\"http://www.w3.org/2005/Atom\" xmlns:content=\"http://purl.org/rss/1.0/modules/content/\" xmlns:dc=\"http://purl.org/dc/elements/1.1/\" xmlns:media=\"http://search.yahoo.com/mrss/\" xmlns:sy=\"http://purl.org/rss/1.0/modules/syndication/\"><channel><title>Chicago Tribune</title><link>https://www.chicagotribune.com</link><language>en-US</language><copyright>© 2021 Chicago Tribune</copyright><atom:link href=\"https://www.chicagotribune.com/arcio/rss/category/sports/?query=display_date:%5Bnow-2d+TO+now%5D&amp;sort=display_date:desc\" rel=\"self\" type=\"application/rss+xml\"/><description>Chicago Tribune News Feed</description><lastBuildDate>Fri, 23 Apr 2021 14:10:30 +0000</lastBuildDate><ttl>1</ttl><sy:updatePeriod>hourly</sy:updatePeriod><sy:updateFrequency>1</sy:updateFrequency><item><title>Tokyo under ‘emergency orders’ to stop surging COVID-19 cases with the Olympics only 3 months away</title><link>https://www.chicagotribune.com/sports/olympics/ct-tokyo-olympics-covid-emergency-orders-20210423-yh2ajorsu5fldind4q62r5liqu-story.html#ed=rss_www.chicagotribune.com/arcio/rss/category/sports/</link><guid isPermaLink=\"true\">https://www.chicagotribune.com/sports/olympics/ct-tokyo-olympics-covid-emergency-orders-20210423-yh2ajorsu5fldind4q62r5liqu-story.html</guid><dc:creator>STEPHEN WADE and MARI YAMAGUCHI</dc:creator><pubDate>Fri, 23 Apr 2021 12:33:34 +0000</pubDate><description>Only three months before the postponed Olympics are set to open, Tokyo and Japan’s second largest metropolitan area of Osaka have been placed under emergency orders aimed at stemming surging cases of the coronavirus.</description><content:encoded><![CDATA[<p>Only three months before the postponed Olympics are set to open, Tokyo and Japan’s second largest metropolitan area of Osaka have been placed under emergency orders aimed at stemming surging cases of the coronavirus.</p>]]></content:encoded><media:content type=\"image/jpeg\" url=\"https://www.chicagotribune.com/resizer/KlsmBQH-okhzsntY4iX2kGwmxYQ=/cloudfront-us-east-1.images.arcpublishing.com/tronc/5U6UK4XPMSSYEL5TRFPQ66UHZQ.aspx\"><media:description type=\"plain\"><![CDATA[Olympics rings are reflected on the window of a hotel restaurant as a server with a mask sets up a table, in the Odaiba section of Tokyo on Feb. 24, 2020.]]></media:description><media:credit role=\"author\" scheme=\"urn:ebu\"><![CDATA[Jae C. Hong]]></media:credit></media:content></item><item><title>Terrence Clarke, a former Kentucky guard and NBA prospect, dies in an LA car crash at age 19</title><link>https://www.chicagotribune.com/sports/breaking/ct-terrence-clarke-kentucky-dies-car-crash-20210423-jer6ybt7cjbczfsiwk2inwudfq-story.html#ed=rss_www.chicagotribune.com/arcio/rss/category/sports/</link><guid isPermaLink=\"true\">https://www.chicagotribune.com/sports/breaking/ct-terrence-clarke-kentucky-dies-car-crash-20210423-jer6ybt7cjbczfsiwk2inwudfq-story.html</guid><dc:creator>Associated Press staff</dc:creator><pubDate>Fri, 23 Apr 2021 12:30:10 +0000</pubDate><description>Kentucky freshma\u001b[39m...\n",
       "\u001b[36mxml\u001b[39m: \u001b[32mscala\u001b[39m.\u001b[32mxml\u001b[39m.\u001b[32mElem\u001b[39m = <rss version=\"2.0\" xmlns:sy=\"http://purl.org/rss/1.0/modules/syndication/\" xmlns:media=\"http://search.yahoo.com/mrss/\" xmlns:dc=\"http://purl.org/dc/elements/1.1/\" xmlns:content=\"http://purl.org/rss/1.0/modules/content/\" xmlns:atom=\"http://www.w3.org/2005/Atom\"><channel><title>Chicago Tribune</title><link>https://www.chicagotribune.com</link><language>en-US</language><copyright>© 2021 Chicago Tribune</copyright><atom:link type=\"application/rss+xml\" rel=\"self\" href=\"https://www.chicagotribune.com/arcio/rss/category/sports/?query=display_date:%5Bnow-2d+TO+now%5D&amp;sort=display_date:desc\"/><description>Chicago Tribune News Feed</description><lastBuildDate>Fri, 23 Apr 2021 14:10:30 +0000</lastBuildDate><ttl>1</ttl><sy:updatePeriod>hourly</sy:updatePeriod><sy:updateFrequency>1</sy:updateFrequency><item><title>Tokyo under ‘emergency orders’ to stop surging COVID-19 cases with the Olympics only 3 months away</title><link>https://www.chicagotribune.com/sports/olympics/ct-tokyo-olympics-covid-emergency-orders-20210423-yh2ajorsu5fldind4q62r5liqu-story.html#ed=rss_www.chicagotribune.com/arcio/rss/category/sports/</link><guid isPermaLink=\"true\">https://www.chicagotribune.com/sports/olympics/ct-tokyo-olympics-covid-emergency-orders-20210423-yh2ajorsu5fldind4q62r5liqu-story.html</guid><dc:creator>STEPHEN WADE and MARI YAMAGUCHI</dc:creator><pubDate>Fri, 23 Apr 2021 12:33:34 +0000</pubDate><description>Only three months before the postponed Olympics are set to open, Tokyo and Japan’s second largest metropolitan area of Osaka have been placed under emergency orders aimed at stemming surging cases of the coronavirus.</description><content:encoded>&lt;p&gt;Only three months before the postponed Olympics are set to open, Tokyo and Japan’s second largest metropolitan area of Osaka have been placed under emergency orders aimed at stemming surging cases of the coronavirus.&lt;/p&gt;</content:encoded><media:content url=\"https://www.chicagotribune.com/resizer/KlsmBQH-okhzsntY4iX2kGwmxYQ=/cloudfront-us-east-1.images.arcpublishing.com/tronc/5U6UK4XPMSSYEL5TRFPQ66UHZQ.aspx\" type=\"image/jpeg\"><media:description type=\"plain\">Olympics rings are reflected on the window of a hotel restaurant as a server with a mask sets up a table, in the Odaiba section of Tokyo on Feb. 24, 2020.</media:description><media:credit scheme=\"urn:ebu\" role=\"author\">Jae C. Hong</media:credit></media:content></item><item><title>Terrence Clarke, a former Kentucky guard and NBA prospect, dies in an LA car crash at age 19</title><link>https://www.chicagotribune.com/sports/breaking/ct-terrence-clarke-kentucky-dies-car-crash-20210423-jer6ybt7cjbczfsiwk2inwudfq-story.html#ed=rss_www.chicagotribune.com/arcio/rss/category/sports/</link><guid isPermaLink=\"true\">https://www.chicagotribune.com/sports/breaking/ct-terrence-clarke-kentucky-dies-car-crash-20210423-jer6ybt7cjbczfsiwk2inwudfq-story.html</guid><dc:creator>Associated Press staff</dc:creator><pubDate>Fri, 23 Apr 2021 12:30:10 +0000</pubDate><description>Kentucky freshman guard Terrence Clarke died Thursday in a car accident in Los Angeles. He was 19. The university announ...\n",
       "\u001b[36mrssText\u001b[39m: \u001b[32mcollection\u001b[39m.\u001b[32mimmutable\u001b[39m.\u001b[32mSeq\u001b[39m[\u001b[32mString\u001b[39m] = \u001b[33mList\u001b[39m(\n",
       "  \u001b[32m\"Tokyo under \\u2018emergency orders\\u2019 to stop surging COVID-19 cases with the Olympics only 3 months away Only three months before the postponed Olympics are set to open, Tokyo and Japan\\u2019s second largest metropolitan area of Osaka have been placed under emergency orders aimed at stemming surging cases of the coronavirus.\"\u001b[39m,\n",
       "  \u001b[32m\"Terrence Clarke, a former Kentucky guard and NBA prospect, dies in an LA car crash at age 19 Kentucky freshman guard Terrence Clarke died Thursday in a car accident in Los Angeles. He was 19. The university announced Clarke\\u2019s death in a release but did not include any details.\"\u001b[39m,\n",
       "  \u001b[32m\"3 takeaways from the Chicago Bulls\\u2019 bounce-back win, including what assistant coach Mo Cheeks is teaching Coby White One night after one of their most uninspired performances of the season, the Chicago Bulls responded in a big way with a 108-91 blowout victory over the Charlotte Hornets.\"\u001b[39m,\n",
       "  \u001b[32m\"Flashback: Baseball at the feet of the Sphinx? Chicago White Stockings circled the globe in a tour with the All-Americans From October 1888 to April 1889, the Chicago White Stockings and the All-America team battled for baseball supremacy during a tour of the United States, Australia, Southeast Asia, the Middle East and Europe.\"\u001b[39m,\n",
       "  \u001b[32m\"Jason Heyward\\u2019s pinch-hit single gives the Chicago Cubs a 4-3 win in 10 innings \\u2014 and a sweep of the New York Mets: \\u2018You just try to be ready\\u2019 The Chicago Cubs swept a three-game series against the New York Mets with a 4-3 win in 10 innings on Thursday at Wrigley Field. Jason Heyward sealed the victory with a walk-off RBI single.\"\u001b[39m,\n",
       "  \u001b[32m\"Photos: Chicago Cubs 4, New York Mets 3 (10 innings) Photos from the Chicago Cubs' 4-3 win in 10 innings over the New York Mets on April 22, 2021, at Wrigley Field.\"\u001b[39m,\n",
       "  \u001b[32m\"Photos: Chicago Bulls 108, Charlotte Hornets 91 Photos from the Chicago Bulls-Charlotte Hornets game on April 22, 2021, at the United Center in Chicago.\"\u001b[39m,\n",
       "  \u001b[32m\"Column: If the Chicago Cubs hope to contend this season, their weekend series against the Milwaukee Brewers could be a big one   The Chicago Cubs face the Milwaukee Brewers this weekend for the third time in the young season, and it could be a big series. If the Cubs are able to contend, they might look back on this stretch as one in which they learned how to survive even as they all struggled.\"\u001b[39m,\n",
       "  \u001b[32m\"Yo\\u00e1n Moncada\\u2019s plate struggles haven\\u2019t affected his defense at third base for the Chicago White Sox: \\u2018He\\u2019s got Gold Glove talent\\u2019 A finalist for the American League Gold Glove Award at third base in 2020, Yo\\u00e1n Moncada has continued his strong defense for the Chicago White Sox. Acco\u001b[39m..."
      ]
     },
     "execution_count": 3,
     "metadata": {},
     "output_type": "execute_result"
    }
   ],
   "source": [
    "// Tutorial https://alvinalexander.com/source-code/scala-how-to-http-download-xml-rss-feed-timeout/\n",
    "// get the xml content using scalaj-http\n",
    "val url = \"https://www.chicagotribune.com/arcio/rss/category/sports/?query=display_date:[now-2d+TO+now]&sort=display_date:desc\""
   ]
  },
  {
   "cell_type": "code",
   "execution_count": null,
   "id": "106c366c-e3ac-480e-ad91-1adc40e53e49",
   "metadata": {},
   "outputs": [],
   "source": [
    "class obtURL(val url2:String){\n",
    "    def response2(cadena: String):HttpResponse[String] = Http(url2)\n",
    "     .timeout(connTimeoutMs = 2000, readTimeoutMs = 5000)\n",
    "     .asString\n",
    "    \n",
    "    val xmlString = response2(url).body\n",
    "    // convert the `String` to a `scala.xml.Elem`\n",
    "    val xml = XML.loadString(xmlString)\n",
    "    // Extract text from title and description\n",
    "    val rssText = (xml \\\\ \"item\").map { item =>\n",
    "      ((item \\ \"title\").text ++ \" \" ++ (item \\ \"description\").text)\n",
    "      }\n",
    "}"
   ]
  },
  {
   "cell_type": "code",
   "execution_count": null,
   "id": "ba8c5992-5b2f-4add-ae65-e49a52c516fd",
   "metadata": {},
   "outputs": [],
   "source": [
    "val enlace = new obtURL(url)"
   ]
  },
  {
   "cell_type": "markdown",
   "id": "assured-syndication",
   "metadata": {},
   "source": [
    "## 2. Detectar las entidades nombradas"
   ]
  },
  {
   "cell_type": "markdown",
   "id": "ethical-shannon",
   "metadata": {},
   "source": [
    "### 2.1 Importar librerías"
   ]
  },
  {
   "cell_type": "code",
   "execution_count": 4,
   "id": "streaming-relations",
   "metadata": {
    "tags": []
   },
   "outputs": [
    {
     "data": {
      "text/plain": [
       "\u001b[32mimport \u001b[39m\u001b[36m$ivy.$                                  \n",
       "\u001b[39m\n",
       "\u001b[32mimport \u001b[39m\u001b[36m$ivy.$                                    \n",
       "\u001b[39m\n",
       "\u001b[32mimport \u001b[39m\u001b[36m$ivy.$                                      \n",
       "\u001b[39m\n",
       "\u001b[32mimport \u001b[39m\u001b[36m$ivy.$                              \u001b[39m"
      ]
     },
     "execution_count": 4,
     "metadata": {},
     "output_type": "execute_result"
    }
   ],
   "source": [
    "// Equivalent of adding dependencies to maven or sbt files\n",
    "import $ivy.`org.apache.spark::spark-sql:2.4.4`\n",
    "import $ivy.`org.apache.spark::spark-mllib:2.4.4`\n",
    "import $ivy.`com.johnsnowlabs.nlp::spark-nlp:2.7.4`\n",
    "import $ivy.`sh.almond::almond-spark:0.6.0`"
   ]
  },
  {
   "cell_type": "code",
   "execution_count": 3,
   "id": "indonesian-illustration",
   "metadata": {
    "collapsed": true,
    "jupyter": {
     "outputs_hidden": true
    },
    "tags": []
   },
   "outputs": [
    {
     "name": "stderr",
     "output_type": "stream",
     "text": [
      "cmd3.sc:1: object apache is not a member of package org\n",
      "import org.apache.log4j.{Level, Logger}\n",
      "           ^cmd3.sc:3: not found: value Logger\n",
      "val res3_1 = Logger.getLogger(\"org\").setLevel(Level.OFF)\n",
      "             ^cmd3.sc:3: not found: value Level\n",
      "val res3_1 = Logger.getLogger(\"org\").setLevel(Level.OFF)\n",
      "                                              ^Compilation Failed"
     ]
    },
    {
     "ename": "",
     "evalue": "",
     "output_type": "error",
     "traceback": [
      "Compilation Failed"
     ]
    }
   ],
   "source": [
    "import org.apache.log4j.{Level, Logger}\n",
    "\n",
    "Logger.getLogger(\"org\").setLevel(Level.OFF)"
   ]
  },
  {
   "cell_type": "code",
   "execution_count": 3,
   "id": "recent-royalty",
   "metadata": {
    "collapsed": true,
    "jupyter": {
     "outputs_hidden": true
    },
    "tags": []
   },
   "outputs": [
    {
     "name": "stderr",
     "output_type": "stream",
     "text": [
      "cmd3.sc:1: object johnsnowlabs is not a member of package com\n",
      "import com.johnsnowlabs.nlp.base._\n",
      "           ^cmd3.sc:2: object johnsnowlabs is not a member of package com\n",
      "import com.johnsnowlabs.nlp.annotator._\n",
      "           ^cmd3.sc:3: object apache is not a member of package org\n",
      "import org.apache.spark.ml.Pipeline\n",
      "           ^cmd3.sc:4: object apache is not a member of package org\n",
      "import org.apache.spark.sql.{functions => F}  // Rename import\n",
      "           ^Compilation Failed"
     ]
    },
    {
     "ename": "",
     "evalue": "",
     "output_type": "error",
     "traceback": [
      "Compilation Failed"
     ]
    }
   ],
   "source": [
    "import com.johnsnowlabs.nlp.base._\n",
    "import com.johnsnowlabs.nlp.annotator._\n",
    "import org.apache.spark.ml.Pipeline\n",
    "import org.apache.spark.sql.{functions => F}  // Rename import"
   ]
  },
  {
   "cell_type": "code",
   "execution_count": 3,
   "id": "mineral-plant",
   "metadata": {
    "collapsed": true,
    "jupyter": {
     "outputs_hidden": true
    },
    "tags": []
   },
   "outputs": [
    {
     "name": "stderr",
     "output_type": "stream",
     "text": [
      "cmd3.sc:1: object apache is not a member of package org\n",
      "import org.apache.spark.sql._\n",
      "           ^cmd3.sc:4: not found: value NotebookSparkSession\n",
      "  NotebookSparkSession.builder()\n",
      "  ^Compilation Failed"
     ]
    },
    {
     "ename": "",
     "evalue": "",
     "output_type": "error",
     "traceback": [
      "Compilation Failed"
     ]
    }
   ],
   "source": [
    "// NO SACAR ESTA CELDA DE LA NOTEBOOK!!!\n",
    "import org.apache.spark.sql._\n",
    "// If a new library is included, this cell must be re-run\n",
    "val spark = {\n",
    "  NotebookSparkSession.builder()\n",
    "    .master(\"local[*]\")\n",
    "    .getOrCreate()\n",
    "}\n",
    "import spark.implicits._ // This is necessary for all the .toDF\n",
    "// And it has to go after starting the session"
   ]
  },
  {
   "cell_type": "markdown",
   "id": "impossible-instruction",
   "metadata": {},
   "source": [
    "### 2.2 Crear la instancia de SparkML Pipeline\n",
    "\n",
    "Este código genera el pipeline de datos.\n",
    "\n",
    "El **modelo** en sí es la instancia de `NerDLModel`. El código anterior son transformadores que pre-procesan el texto para dejarlo en el formato esperado por el modelo. La instancia de `NerConverter` es un transformador que procesa la salida del modelo a un formato más fácil de leer. Todas estas etapas se combinan en un **pipeline** de datos que recibe texto plano y devuelve las entidades nombradas.\n",
    "\n",
    "La entrada debe ser un DataFrame y tener una única columna llamada `description`"
   ]
  },
  {
   "cell_type": "code",
   "execution_count": null,
   "id": "0748b3db-5562-47a7-a133-6c3bf18bd2b5",
   "metadata": {
    "collapsed": true,
    "jupyter": {
     "outputs_hidden": true
    },
    "tags": []
   },
   "outputs": [
    {
     "name": "stderr",
     "output_type": "stream",
     "text": [
      "(console):30:9 expected \"}\"\n",
      "        new Pipeline()\n",
      "        ^"
     ]
    },
    {
     "ename": "",
     "evalue": "",
     "output_type": "error",
     "traceback": [
      "(console):30:9 expected \"}\"\n        new Pipeline()\n        ^"
     ]
    }
   ],
   "source": [
    "class NERModel(val inputCol:String){\n",
    "    //creates a pipeline\n",
    "    def createPipelines(): Pipeline{\n",
    "        val documentAssembler = new DocumentAssembler()\n",
    "           .setInputCol(\"description\")\n",
    "           .setOutputCol(\"document\")\n",
    "\n",
    "        val sentenceDetector = new SentenceDetector()\n",
    "           .setInputCols(\"document\")\n",
    "           .setOutputCol(\"sentence\")\n",
    "\n",
    "        val tokenizer = new Tokenizer()\n",
    "           .setInputCols(Array(\"sentence\"))\n",
    "           .setOutputCol(\"token\")\n",
    "\n",
    "        // Search for other pretrained models here\n",
    "        // https://nlp.johnsnowlabs.com/docs/en/models\n",
    "        val embeddings = WordEmbeddingsModel.pretrained(\"glove_100d\", \"en\")\n",
    "            .setInputCols(Array(\"sentence\", \"token\"))\n",
    "            .setOutputCol(\"embeddings\")\n",
    "\n",
    "        val ner = NerDLModel.pretrained(\"ner_dl\")\n",
    "          .setInputCols(Array(\"sentence\", \"token\", \"embeddings\"))\n",
    "          .setOutputCol(\"ner\")\n",
    "\n",
    "        val nerConverter = new NerConverter()\n",
    "          .setInputCols(Array(\"document\", \"token\", \"ner\"))\n",
    "          .setOutputCol(\"ner_chunk\")\n",
    "\n",
    "        new Pipeline()\n",
    "            .setStages(Array(documentAssembler, sentenceDetector, tokenizer,\n",
    "                     embeddings, ner, nerConverter))\n",
    "       }\n",
    "    val pipelines: Pipeline = createPipeline()\n",
    "    \n",
    "    //Applies pipelines to extract Named Entities\n",
    "    def extractNes(data:DataFrame): DataFrame = {\n",
    "        val trainedModel = pipeline.fit(data.limit(1))  // Use only first row, we only need the schema\n",
    "        trainedModel.transform(data)\n",
    "    }\n",
    "    \n",
    "    //Counst and sort Named Entities\n",
    "    def sortNes(result:DataFrame): Array[Rows] = {\n",
    "         result.select(\n",
    "             F.explode(\n",
    "               F.arrays_zip(F.col(\"ner_chunk.result\"), F.col(\"ner_chunk.metadata\")))\n",
    "               .alias(\"entities\"))\n",
    "            .select(\n",
    "               F.expr(\"entities['0']\").alias(\"entity\"),\n",
    "               F.expr(\"entities['1'].entity\").alias(\"label\"))\n",
    "            .groupBy(\"entity\", \"label\").count().orderBy(F.desc(\"count\"))\n",
    "            .select(\"entity\", \"count\")\n",
    "            .collect()\n",
    "    }\n",
    "}"
   ]
  },
  {
   "cell_type": "code",
   "execution_count": 8,
   "id": "nervous-peter",
   "metadata": {
    "tags": []
   },
   "outputs": [
    {
     "data": {
      "text/plain": [
       "\u001b[36minput_col\u001b[39m: \u001b[32mString\u001b[39m = \u001b[32m\"description\"\u001b[39m"
      ]
     },
     "execution_count": 8,
     "metadata": {},
     "output_type": "execute_result"
    }
   ],
   "source": [
    "val input_col = \"description\""
   ]
  },
  {
   "cell_type": "code",
   "execution_count": null,
   "id": "hungry-encounter",
   "metadata": {
    "collapsed": true,
    "jupyter": {
     "outputs_hidden": true
    },
    "tags": []
   },
   "outputs": [
    {
     "name": "stderr",
     "output_type": "stream",
     "text": [
      "cmd0.sc:1: not found: type NERModel\n",
      "val model = new NERModel\n",
      "                ^Compilation Failed"
     ]
    },
    {
     "ename": "",
     "evalue": "",
     "output_type": "error",
     "traceback": [
      "Compilation Failed"
     ]
    }
   ],
   "source": [
    "val model = new NERModel(inputCol)"
   ]
  },
  {
   "cell_type": "markdown",
   "id": "tender-spank",
   "metadata": {},
   "source": [
    "### 2.3 Cargar los datos en un DataFrame\n",
    "\n",
    "El pipeline espera que el texto esté en una instancia DataFrame de Spark, que es como una tabla con filas (una para cada artículo) y columnas (sólo una, para el texto). Para poder usar DataFrames, se debe crear primero una sesión de Spark."
   ]
  },
  {
   "cell_type": "markdown",
   "id": "occasional-korea",
   "metadata": {},
   "source": [
    "Convertimos el texto en DataFrame, que tiene que tener una única columna con el mismo nombre que espera el modelo."
   ]
  },
  {
   "cell_type": "code",
   "execution_count": 10,
   "id": "departmental-crystal",
   "metadata": {
    "tags": []
   },
   "outputs": [
    {
     "data": {
      "text/plain": [
       "\u001b[36mdata\u001b[39m: \u001b[32mDataFrame\u001b[39m = [description: string]"
      ]
     },
     "execution_count": 10,
     "metadata": {},
     "output_type": "execute_result"
    }
   ],
   "source": [
    "val data = (enlace.rssText).toDF(model.input_col)"
   ]
  },
  {
   "cell_type": "markdown",
   "id": "twenty-breakfast",
   "metadata": {},
   "source": [
    "### 2.4 Aplicar el SparkML Pipeline a los datos"
   ]
  },
  {
   "cell_type": "code",
   "execution_count": 11,
   "id": "figured-dodge",
   "metadata": {},
   "outputs": [
    {
     "data": {
      "text/plain": [
       "\u001b[36mtrainedModel\u001b[39m: \u001b[32morg\u001b[39m.\u001b[32mapache\u001b[39m.\u001b[32mspark\u001b[39m.\u001b[32mml\u001b[39m.\u001b[32mPipelineModel\u001b[39m = pipeline_30544d6d9eac\n",
       "\u001b[36mresult\u001b[39m: \u001b[32mDataFrame\u001b[39m = [description: string, document: array<struct<annotatorType:string,begin:int,end:int,result:string,metadata:map<string,string>,embeddings:array<float>>> ... 5 more fields]"
      ]
     },
     "execution_count": 11,
     "metadata": {},
     "output_type": "execute_result"
    }
   ],
   "source": [
    "val result = model.extractNes(data)"
   ]
  },
  {
   "cell_type": "markdown",
   "id": "classified-screen",
   "metadata": {},
   "source": [
    "Vemos el resultado sólo para el primer artículo."
   ]
  },
  {
   "cell_type": "code",
   "execution_count": 12,
   "id": "portuguese-machinery",
   "metadata": {
    "tags": []
   },
   "outputs": [
    {
     "name": "stdout",
     "output_type": "stream",
     "text": [
      "+-------------------------------------------------------------------------------------------------------------------------------------------------------------------------------------------------------------------------------------------------------------------------------------------------------------------------------------------------------------------------------------------------+\n",
      "|ner_chunk                                                                                                                                                                                                                                                                                                                                                                                        |\n",
      "+-------------------------------------------------------------------------------------------------------------------------------------------------------------------------------------------------------------------------------------------------------------------------------------------------------------------------------------------------------------------------------------------------+\n",
      "|[[chunk, 0, 8, White Sox, [entity -> ORG, sentence -> 0, chunk -> 0], []], [chunk, 20, 31, Tim Anderson, [entity -> PER, sentence -> 0, chunk -> 1], []], [chunk, 82, 92, Celebrating, [entity -> MISC, sentence -> 0, chunk -> 2], []], [chunk, 94, 105, Tim Anderson, [entity -> PER, sentence -> 0, chunk -> 3], []], [chunk, 140, 143, FOCO, [entity -> ORG, sentence -> 0, chunk -> 4], []]]|\n",
      "+-------------------------------------------------------------------------------------------------------------------------------------------------------------------------------------------------------------------------------------------------------------------------------------------------------------------------------------------------------------------------------------------------+\n",
      "\n"
     ]
    }
   ],
   "source": [
    "// Prediction is not executed until we actually want to use the results\n",
    "result.select(\"ner_chunk\").limit(1).show(truncate=false)"
   ]
  },
  {
   "cell_type": "markdown",
   "id": "weekly-asthma",
   "metadata": {
    "tags": []
   },
   "source": [
    "## 3. Contar y ordenar las entidades"
   ]
  },
  {
   "cell_type": "code",
   "execution_count": 14,
   "id": "overhead-ireland",
   "metadata": {
    "collapsed": true,
    "jupyter": {
     "outputs_hidden": true
    },
    "tags": []
   },
   "outputs": [
    {
     "data": {
      "text/html": [
       "<div>\n",
       "  <span style=\"float: left;\">collect at cmd13.sc:10</span>\n",
       "</div>\n"
      ]
     },
     "metadata": {},
     "output_type": "display_data"
    },
    {
     "data": {
      "text/html": [
       "<div class=\"progress\">\n",
       "  <div class=\"progress-bar\" role=\"progressbar\" style=\"background-color: blue; width: 100%; word-wrap: normal; white-space: nowrap; text-align: center; color: white\" aria-valuenow=\"100\" aria-valuemin=\"0\" aria-valuemax=\"100\">\n",
       "    4 / 4\n",
       "  </div>\n",
       "  <div class=\"progress-bar\" role=\"progressbar\" style=\"background-color: red; width: 0%\" aria-valuenow=\"0\" aria-valuemin=\"0\" aria-valuemax=\"100\"></div>\n",
       "</div>\n"
      ]
     },
     "metadata": {},
     "output_type": "display_data"
    },
    {
     "data": {
      "text/html": [
       "<div>\n",
       "  <span style=\"float: left;\">collect at cmd13.sc:10</span>\n",
       "</div>\n"
      ]
     },
     "metadata": {},
     "output_type": "display_data"
    },
    {
     "data": {
      "text/html": [
       "<div class=\"progress\">\n",
       "  <div class=\"progress-bar\" role=\"progressbar\" style=\"background-color: blue; width: 100%; word-wrap: normal; white-space: nowrap; text-align: center; color: white\" aria-valuenow=\"100\" aria-valuemin=\"0\" aria-valuemax=\"100\">\n",
       "    200 / 200\n",
       "  </div>\n",
       "  <div class=\"progress-bar\" role=\"progressbar\" style=\"background-color: red; width: 0%\" aria-valuenow=\"0\" aria-valuemin=\"0\" aria-valuemax=\"100\"></div>\n",
       "</div>\n"
      ]
     },
     "metadata": {},
     "output_type": "display_data"
    },
    {
     "data": {
      "text/html": [
       "<div>\n",
       "  <span style=\"float: left;\">collect at cmd13.sc:10</span>\n",
       "</div>\n"
      ]
     },
     "metadata": {},
     "output_type": "display_data"
    },
    {
     "data": {
      "text/html": [
       "<div class=\"progress\">\n",
       "  <div class=\"progress-bar\" role=\"progressbar\" style=\"background-color: blue; width: 100%; word-wrap: normal; white-space: nowrap; text-align: center; color: white\" aria-valuenow=\"100\" aria-valuemin=\"0\" aria-valuemax=\"100\">\n",
       "    200 / 200\n",
       "  </div>\n",
       "  <div class=\"progress-bar\" role=\"progressbar\" style=\"background-color: red; width: 0%\" aria-valuenow=\"0\" aria-valuemin=\"0\" aria-valuemax=\"100\"></div>\n",
       "</div>\n"
      ]
     },
     "metadata": {},
     "output_type": "display_data"
    },
    {
     "data": {
      "text/html": [
       "<div>\n",
       "  <span style=\"float: left;\">collect at cmd13.sc:10</span>\n",
       "</div>\n"
      ]
     },
     "metadata": {},
     "output_type": "display_data"
    },
    {
     "data": {
      "text/html": [
       "<div class=\"progress\">\n",
       "  <div class=\"progress-bar\" role=\"progressbar\" style=\"background-color: blue; width: 100%; word-wrap: normal; white-space: nowrap; text-align: center; color: white\" aria-valuenow=\"100\" aria-valuemin=\"0\" aria-valuemax=\"100\">\n",
       "    7 / 7\n",
       "  </div>\n",
       "  <div class=\"progress-bar\" role=\"progressbar\" style=\"background-color: red; width: 0%\" aria-valuenow=\"0\" aria-valuemin=\"0\" aria-valuemax=\"100\"></div>\n",
       "</div>\n"
      ]
     },
     "metadata": {},
     "output_type": "display_data"
    },
    {
     "data": {
      "text/plain": [
       "\u001b[36msortedNEs\u001b[39m: \u001b[32mArray\u001b[39m[\u001b[32mRow\u001b[39m] = \u001b[33mArray\u001b[39m(\n",
       "  [Chicago White Sox,9],\n",
       "  [Chicago Cubs,6],\n",
       "  [Humboldt Park Gators,4],\n",
       "  [Pittsburgh Pirates,4],\n",
       "  [Masters,4],\n",
       "  [Kansas City Royals,4],\n",
       "  [COVID-19,4],\n",
       "  [Hideki Matsuyama,4],\n",
       "  [Japanese,3],\n",
       "  [Yermín Mercedes,3],\n",
       "  [White Sox,3],\n",
       "  [Chicago Blackhawks,3],\n",
       "  [Chicago Bulls,3],\n",
       "  [Chicago Cubs’,2],\n",
       "  [Kansas City Chiefs,2],\n",
       "  [Los Angeles Angels,2],\n",
       "  [Britt Reid,2],\n",
       "  [Bulls,2],\n",
       "  [Eddie George,2],\n",
       "  [Sweden,2],\n",
       "  [NBA,2],\n",
       "  [Zach Davies,2],\n",
       "  [Prince Philip’s,2],\n",
       "  [Tim Anderson,2],\n",
       "  [Pittsburgh,2],\n",
       "  [Pirates,2],\n",
       "  [Columbus Blue Jackets,2],\n",
       "  [Minnesota Timberwolves,2],\n",
       "  [Blackhawks,2],\n",
       "  [Craig Driver,2],\n",
       "  [NHL,2],\n",
       "  [Dexter Fowler,2],\n",
       "  [Royals,2],\n",
       "  [ACL,2],\n",
       "  [Timberwolves,2],\n",
       "  [Minneapolis The Minnesota Twins,1],\n",
       "  [Chicago Bulls’,1],\n",
       "  [Nationwide Arena,1],\n",
       "..."
      ]
     },
     "execution_count": 14,
     "metadata": {},
     "output_type": "execute_result"
    }
   ],
   "source": [
    "val sortedNes = model.sortNes(result)"
   ]
  },
  {
   "cell_type": "code",
   "execution_count": null,
   "id": "willing-costa",
   "metadata": {},
   "outputs": [],
   "source": []
  }
 ],
 "metadata": {
  "kernelspec": {
   "display_name": "Scala",
   "language": "scala",
   "name": "scala"
  },
  "language_info": {
   "codemirror_mode": "text/x-scala",
   "file_extension": ".scala",
   "mimetype": "text/x-scala",
   "name": "scala",
   "nbconvert_exporter": "script",
   "version": "2.11.12"
  }
 },
 "nbformat": 4,
 "nbformat_minor": 5
}
